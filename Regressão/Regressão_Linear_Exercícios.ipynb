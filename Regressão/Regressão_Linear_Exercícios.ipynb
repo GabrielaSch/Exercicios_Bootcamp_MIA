{
 "cells": [
  {
   "cell_type": "markdown",
   "metadata": {
    "id": "DisnuN4x6SkL"
   },
   "source": [
    "# Regressão Linear "
   ]
  },
  {
   "cell_type": "markdown",
   "metadata": {
    "id": "8SYKDLV76SkS"
   },
   "source": [
    "## Exemplo - predição do valor de uma corrida de táxi"
   ]
  },
  {
   "cell_type": "markdown",
   "metadata": {
    "id": "zq7X4FyQ6SkS"
   },
   "source": [
    "Vamos usar a regressão linear para predizer o valor a ser pago em uma corrida de táxi."
   ]
  },
  {
   "cell_type": "markdown",
   "metadata": {
    "id": "RtB6D7ds6SkT"
   },
   "source": [
    "## Bibliotecas auxiliares"
   ]
  },
  {
   "cell_type": "code",
   "execution_count": 1,
   "metadata": {
    "id": "P1QWC13e6SkT"
   },
   "outputs": [],
   "source": [
    "import pandas as pd\n",
    "import matplotlib.pyplot as plt\n",
    "from sklearn.model_selection import train_test_split\n",
    "import seaborn as sns\n",
    "import numpy as np"
   ]
  },
  {
   "cell_type": "code",
   "execution_count": 2,
   "metadata": {
    "id": "_vVOhfXo6SkU"
   },
   "outputs": [],
   "source": [
    "import warnings\n",
    "warnings.simplefilter(action='ignore')"
   ]
  },
  {
   "cell_type": "markdown",
   "metadata": {
    "id": "qoPc9Ain6SkU"
   },
   "source": [
    "O nosso conjunto de dados contém as corridas de táxi da cidade de New York:"
   ]
  },
  {
   "cell_type": "code",
   "execution_count": 3,
   "metadata": {
    "id": "Lb4x3g4Q6SkU"
   },
   "outputs": [],
   "source": [
    "df = pd.read_csv(\"data\\dataset.csv\")"
   ]
  },
  {
   "cell_type": "code",
   "execution_count": 4,
   "metadata": {
    "colab": {
     "base_uri": "https://localhost:8080/"
    },
    "executionInfo": {
     "elapsed": 11,
     "status": "ok",
     "timestamp": 1659325080990,
     "user": {
      "displayName": "Vivian Yamassaki",
      "userId": "04328423261350970754"
     },
     "user_tz": 180
    },
    "id": "_Bv3BJpD6SkU",
    "outputId": "3a956cb2-3f31-4404-e0eb-3686aacb8cba"
   },
   "outputs": [
    {
     "data": {
      "text/plain": [
       "(1000000, 8)"
      ]
     },
     "execution_count": 4,
     "metadata": {},
     "output_type": "execute_result"
    }
   ],
   "source": [
    "df.shape"
   ]
  },
  {
   "cell_type": "markdown",
   "metadata": {
    "id": "O1qWlRN66SkV"
   },
   "source": [
    "#### Descrição do conjunto de dados\n",
    "\n",
    "|Campo            | Descrição                                                  |\n",
    "|-----------------|------------------------------------------------------------|\n",
    "|key              |chave única indicando cada exemplo                          |\n",
    "|**fare_amount**  |valor, em doláres, indicando o valor pago na corrida de táxi|\n",
    "|pickup_datetime  |timestamp indicando quando a corrida começou                |\n",
    "|pickup_longitude |longitude na qual a corrida de táxi começou                 |\n",
    "|pickup_latitude  |latitude na qual a corrida de táxi começou                  |\n",
    "|dropoff_longitude|longitude na qual a corrida de táxi acabou                  |\n",
    "|dropoff_latitude |latitude na qual a corrida de táxi acabou                   |\n",
    "|passenger_count  |número de passageiros                                       |"
   ]
  },
  {
   "cell_type": "code",
   "execution_count": 5,
   "metadata": {
    "colab": {
     "base_uri": "https://localhost:8080/",
     "height": 112
    },
    "executionInfo": {
     "elapsed": 8,
     "status": "ok",
     "timestamp": 1659325080990,
     "user": {
      "displayName": "Vivian Yamassaki",
      "userId": "04328423261350970754"
     },
     "user_tz": 180
    },
    "id": "Bkz1IS-x6SkV",
    "outputId": "92a2f61a-5609-4100-ea0d-f1faed008045"
   },
   "outputs": [
    {
     "data": {
      "text/html": [
       "<div>\n",
       "<style scoped>\n",
       "    .dataframe tbody tr th:only-of-type {\n",
       "        vertical-align: middle;\n",
       "    }\n",
       "\n",
       "    .dataframe tbody tr th {\n",
       "        vertical-align: top;\n",
       "    }\n",
       "\n",
       "    .dataframe thead th {\n",
       "        text-align: right;\n",
       "    }\n",
       "</style>\n",
       "<table border=\"1\" class=\"dataframe\">\n",
       "  <thead>\n",
       "    <tr style=\"text-align: right;\">\n",
       "      <th></th>\n",
       "      <th>key</th>\n",
       "      <th>fare_amount</th>\n",
       "      <th>pickup_datetime</th>\n",
       "      <th>pickup_longitude</th>\n",
       "      <th>pickup_latitude</th>\n",
       "      <th>dropoff_longitude</th>\n",
       "      <th>dropoff_latitude</th>\n",
       "      <th>passenger_count</th>\n",
       "    </tr>\n",
       "  </thead>\n",
       "  <tbody>\n",
       "    <tr>\n",
       "      <th>0</th>\n",
       "      <td>2009-06-15 17:26:21.0000001</td>\n",
       "      <td>4.5</td>\n",
       "      <td>2009-06-15 17:26:21 UTC</td>\n",
       "      <td>-73.844311</td>\n",
       "      <td>40.721319</td>\n",
       "      <td>-73.841610</td>\n",
       "      <td>40.712278</td>\n",
       "      <td>1</td>\n",
       "    </tr>\n",
       "    <tr>\n",
       "      <th>1</th>\n",
       "      <td>2010-01-05 16:52:16.0000002</td>\n",
       "      <td>16.9</td>\n",
       "      <td>2010-01-05 16:52:16 UTC</td>\n",
       "      <td>-74.016048</td>\n",
       "      <td>40.711303</td>\n",
       "      <td>-73.979268</td>\n",
       "      <td>40.782004</td>\n",
       "      <td>1</td>\n",
       "    </tr>\n",
       "  </tbody>\n",
       "</table>\n",
       "</div>"
      ],
      "text/plain": [
       "                           key  fare_amount          pickup_datetime  \\\n",
       "0  2009-06-15 17:26:21.0000001          4.5  2009-06-15 17:26:21 UTC   \n",
       "1  2010-01-05 16:52:16.0000002         16.9  2010-01-05 16:52:16 UTC   \n",
       "\n",
       "   pickup_longitude  pickup_latitude  dropoff_longitude  dropoff_latitude  \\\n",
       "0        -73.844311        40.721319         -73.841610         40.712278   \n",
       "1        -74.016048        40.711303         -73.979268         40.782004   \n",
       "\n",
       "   passenger_count  \n",
       "0                1  \n",
       "1                1  "
      ]
     },
     "execution_count": 5,
     "metadata": {},
     "output_type": "execute_result"
    }
   ],
   "source": [
    "df.head(2)"
   ]
  },
  {
   "cell_type": "code",
   "execution_count": 6,
   "metadata": {
    "colab": {
     "base_uri": "https://localhost:8080/"
    },
    "executionInfo": {
     "elapsed": 8,
     "status": "ok",
     "timestamp": 1659325080991,
     "user": {
      "displayName": "Vivian Yamassaki",
      "userId": "04328423261350970754"
     },
     "user_tz": 180
    },
    "id": "hE1Ms2qW6SkW",
    "outputId": "6d55499d-38db-4007-8eb6-cba3f44d1912"
   },
   "outputs": [
    {
     "name": "stdout",
     "output_type": "stream",
     "text": [
      "<class 'pandas.core.frame.DataFrame'>\n",
      "RangeIndex: 1000000 entries, 0 to 999999\n",
      "Data columns (total 8 columns):\n",
      " #   Column             Non-Null Count    Dtype  \n",
      "---  ------             --------------    -----  \n",
      " 0   key                1000000 non-null  object \n",
      " 1   fare_amount        1000000 non-null  float64\n",
      " 2   pickup_datetime    1000000 non-null  object \n",
      " 3   pickup_longitude   1000000 non-null  float64\n",
      " 4   pickup_latitude    1000000 non-null  float64\n",
      " 5   dropoff_longitude  999990 non-null   float64\n",
      " 6   dropoff_latitude   999990 non-null   float64\n",
      " 7   passenger_count    1000000 non-null  int64  \n",
      "dtypes: float64(5), int64(1), object(2)\n",
      "memory usage: 61.0+ MB\n"
     ]
    }
   ],
   "source": [
    "df.info()"
   ]
  },
  {
   "cell_type": "markdown",
   "metadata": {
    "id": "U4khBIyg6SkW"
   },
   "source": [
    "## Análise exploratória e Feature engineering"
   ]
  },
  {
   "cell_type": "markdown",
   "metadata": {
    "id": "m7dBxTx56SkW"
   },
   "source": [
    "### Valores faltantes"
   ]
  },
  {
   "cell_type": "code",
   "execution_count": 7,
   "metadata": {
    "colab": {
     "base_uri": "https://localhost:8080/"
    },
    "executionInfo": {
     "elapsed": 5,
     "status": "ok",
     "timestamp": 1659325080991,
     "user": {
      "displayName": "Vivian Yamassaki",
      "userId": "04328423261350970754"
     },
     "user_tz": 180
    },
    "id": "7GlRvfSF6SkX",
    "outputId": "cdd753c0-6a6b-4b63-ed6b-f11c5c239f41"
   },
   "outputs": [
    {
     "name": "stdout",
     "output_type": "stream",
     "text": [
      "Tamanho conjunto de dados (antes da remoção de valores faltantes): 1000000\n",
      "Tamanho conjunto de dados (depois da remoção de valores faltantes): 999990\n"
     ]
    }
   ],
   "source": [
    "print(f'Tamanho conjunto de dados (antes da remoção de valores faltantes): {len(df)}')\n",
    "df.dropna(inplace=True)\n",
    "print(f'Tamanho conjunto de dados (depois da remoção de valores faltantes): {len(df)}')"
   ]
  },
  {
   "cell_type": "markdown",
   "metadata": {
    "id": "lFGFVG526SkX"
   },
   "source": [
    "### Distribuição das features"
   ]
  },
  {
   "cell_type": "code",
   "execution_count": 8,
   "metadata": {
    "colab": {
     "base_uri": "https://localhost:8080/",
     "height": 300
    },
    "executionInfo": {
     "elapsed": 2257,
     "status": "ok",
     "timestamp": 1659325084284,
     "user": {
      "displayName": "Vivian Yamassaki",
      "userId": "04328423261350970754"
     },
     "user_tz": 180
    },
    "id": "K0P8BQsZ6SkX",
    "outputId": "5984cc48-4fe8-415b-a82c-45169513b1f9"
   },
   "outputs": [
    {
     "data": {
      "text/html": [
       "<div>\n",
       "<style scoped>\n",
       "    .dataframe tbody tr th:only-of-type {\n",
       "        vertical-align: middle;\n",
       "    }\n",
       "\n",
       "    .dataframe tbody tr th {\n",
       "        vertical-align: top;\n",
       "    }\n",
       "\n",
       "    .dataframe thead th {\n",
       "        text-align: right;\n",
       "    }\n",
       "</style>\n",
       "<table border=\"1\" class=\"dataframe\">\n",
       "  <thead>\n",
       "    <tr style=\"text-align: right;\">\n",
       "      <th></th>\n",
       "      <th>count</th>\n",
       "      <th>unique</th>\n",
       "      <th>top</th>\n",
       "      <th>freq</th>\n",
       "      <th>mean</th>\n",
       "      <th>std</th>\n",
       "      <th>min</th>\n",
       "      <th>25%</th>\n",
       "      <th>50%</th>\n",
       "      <th>75%</th>\n",
       "      <th>max</th>\n",
       "    </tr>\n",
       "  </thead>\n",
       "  <tbody>\n",
       "    <tr>\n",
       "      <th>key</th>\n",
       "      <td>999990</td>\n",
       "      <td>999990</td>\n",
       "      <td>2009-06-15 17:26:21.0000001</td>\n",
       "      <td>1</td>\n",
       "      <td>NaN</td>\n",
       "      <td>NaN</td>\n",
       "      <td>NaN</td>\n",
       "      <td>NaN</td>\n",
       "      <td>NaN</td>\n",
       "      <td>NaN</td>\n",
       "      <td>NaN</td>\n",
       "    </tr>\n",
       "    <tr>\n",
       "      <th>fare_amount</th>\n",
       "      <td>999990.0</td>\n",
       "      <td>NaN</td>\n",
       "      <td>NaN</td>\n",
       "      <td>NaN</td>\n",
       "      <td>11.347953</td>\n",
       "      <td>9.82179</td>\n",
       "      <td>-44.9</td>\n",
       "      <td>6.0</td>\n",
       "      <td>8.5</td>\n",
       "      <td>12.5</td>\n",
       "      <td>500.0</td>\n",
       "    </tr>\n",
       "    <tr>\n",
       "      <th>pickup_datetime</th>\n",
       "      <td>999990</td>\n",
       "      <td>861747</td>\n",
       "      <td>2010-02-13 19:28:00 UTC</td>\n",
       "      <td>9</td>\n",
       "      <td>NaN</td>\n",
       "      <td>NaN</td>\n",
       "      <td>NaN</td>\n",
       "      <td>NaN</td>\n",
       "      <td>NaN</td>\n",
       "      <td>NaN</td>\n",
       "      <td>NaN</td>\n",
       "    </tr>\n",
       "    <tr>\n",
       "      <th>pickup_longitude</th>\n",
       "      <td>999990.0</td>\n",
       "      <td>NaN</td>\n",
       "      <td>NaN</td>\n",
       "      <td>NaN</td>\n",
       "      <td>-72.526699</td>\n",
       "      <td>12.057778</td>\n",
       "      <td>-3377.680935</td>\n",
       "      <td>-73.99206</td>\n",
       "      <td>-73.981792</td>\n",
       "      <td>-73.967094</td>\n",
       "      <td>2522.271325</td>\n",
       "    </tr>\n",
       "    <tr>\n",
       "      <th>pickup_latitude</th>\n",
       "      <td>999990.0</td>\n",
       "      <td>NaN</td>\n",
       "      <td>NaN</td>\n",
       "      <td>NaN</td>\n",
       "      <td>39.92904</td>\n",
       "      <td>7.626087</td>\n",
       "      <td>-3116.285383</td>\n",
       "      <td>40.734965</td>\n",
       "      <td>40.752695</td>\n",
       "      <td>40.767154</td>\n",
       "      <td>2621.62843</td>\n",
       "    </tr>\n",
       "    <tr>\n",
       "      <th>dropoff_longitude</th>\n",
       "      <td>999990.0</td>\n",
       "      <td>NaN</td>\n",
       "      <td>NaN</td>\n",
       "      <td>NaN</td>\n",
       "      <td>-72.52786</td>\n",
       "      <td>11.324494</td>\n",
       "      <td>-3383.296608</td>\n",
       "      <td>-73.991385</td>\n",
       "      <td>-73.980135</td>\n",
       "      <td>-73.963654</td>\n",
       "      <td>45.581619</td>\n",
       "    </tr>\n",
       "    <tr>\n",
       "      <th>dropoff_latitude</th>\n",
       "      <td>999990.0</td>\n",
       "      <td>NaN</td>\n",
       "      <td>NaN</td>\n",
       "      <td>NaN</td>\n",
       "      <td>39.919954</td>\n",
       "      <td>8.201418</td>\n",
       "      <td>-3114.338567</td>\n",
       "      <td>40.734046</td>\n",
       "      <td>40.753166</td>\n",
       "      <td>40.768129</td>\n",
       "      <td>1651.553433</td>\n",
       "    </tr>\n",
       "    <tr>\n",
       "      <th>passenger_count</th>\n",
       "      <td>999990.0</td>\n",
       "      <td>NaN</td>\n",
       "      <td>NaN</td>\n",
       "      <td>NaN</td>\n",
       "      <td>1.684941</td>\n",
       "      <td>1.323907</td>\n",
       "      <td>0.0</td>\n",
       "      <td>1.0</td>\n",
       "      <td>1.0</td>\n",
       "      <td>2.0</td>\n",
       "      <td>208.0</td>\n",
       "    </tr>\n",
       "  </tbody>\n",
       "</table>\n",
       "</div>"
      ],
      "text/plain": [
       "                      count  unique                          top freq  \\\n",
       "key                  999990  999990  2009-06-15 17:26:21.0000001    1   \n",
       "fare_amount        999990.0     NaN                          NaN  NaN   \n",
       "pickup_datetime      999990  861747      2010-02-13 19:28:00 UTC    9   \n",
       "pickup_longitude   999990.0     NaN                          NaN  NaN   \n",
       "pickup_latitude    999990.0     NaN                          NaN  NaN   \n",
       "dropoff_longitude  999990.0     NaN                          NaN  NaN   \n",
       "dropoff_latitude   999990.0     NaN                          NaN  NaN   \n",
       "passenger_count    999990.0     NaN                          NaN  NaN   \n",
       "\n",
       "                        mean        std          min        25%        50%  \\\n",
       "key                      NaN        NaN          NaN        NaN        NaN   \n",
       "fare_amount        11.347953    9.82179        -44.9        6.0        8.5   \n",
       "pickup_datetime          NaN        NaN          NaN        NaN        NaN   \n",
       "pickup_longitude  -72.526699  12.057778 -3377.680935  -73.99206 -73.981792   \n",
       "pickup_latitude     39.92904   7.626087 -3116.285383  40.734965  40.752695   \n",
       "dropoff_longitude  -72.52786  11.324494 -3383.296608 -73.991385 -73.980135   \n",
       "dropoff_latitude   39.919954   8.201418 -3114.338567  40.734046  40.753166   \n",
       "passenger_count     1.684941   1.323907          0.0        1.0        1.0   \n",
       "\n",
       "                         75%          max  \n",
       "key                      NaN          NaN  \n",
       "fare_amount             12.5        500.0  \n",
       "pickup_datetime          NaN          NaN  \n",
       "pickup_longitude  -73.967094  2522.271325  \n",
       "pickup_latitude    40.767154   2621.62843  \n",
       "dropoff_longitude -73.963654    45.581619  \n",
       "dropoff_latitude   40.768129  1651.553433  \n",
       "passenger_count          2.0        208.0  "
      ]
     },
     "execution_count": 8,
     "metadata": {},
     "output_type": "execute_result"
    }
   ],
   "source": [
    "df.describe(include='all').T "
   ]
  },
  {
   "cell_type": "markdown",
   "metadata": {
    "id": "rdi3U_6P6SkX"
   },
   "source": [
    "### Análise das features (e do target)"
   ]
  },
  {
   "cell_type": "code",
   "execution_count": 9,
   "metadata": {
    "colab": {
     "base_uri": "https://localhost:8080/",
     "height": 296
    },
    "executionInfo": {
     "elapsed": 464,
     "status": "ok",
     "timestamp": 1659325084747,
     "user": {
      "displayName": "Vivian Yamassaki",
      "userId": "04328423261350970754"
     },
     "user_tz": 180
    },
    "id": "AqsTH1ES6SkY",
    "outputId": "1a1912a2-0f1e-45ce-9388-fb5fd315d466"
   },
   "outputs": [
    {
     "data": {
      "image/png": "[encoded data removed]",
      "text/plain": [
       "<Figure size 432x288 with 1 Axes>"
      ]
     },
     "metadata": {
      "needs_background": "light"
     },
     "output_type": "display_data"
    }
   ],
   "source": [
    "sns.boxplot(df.fare_amount).set_title(\"Distribuição do valor pago pela corrida de táxi (target)\");"
   ]
  },
  {
   "cell_type": "code",
   "execution_count": 10,
   "metadata": {
    "colab": {
     "base_uri": "https://localhost:8080/"
    },
    "executionInfo": {
     "elapsed": 8,
     "status": "ok",
     "timestamp": 1659325084747,
     "user": {
      "displayName": "Vivian Yamassaki",
      "userId": "04328423261350970754"
     },
     "user_tz": 180
    },
    "id": "HFULe-8S6SkY",
    "outputId": "1907483d-471e-4be9-a767-507608f155c8"
   },
   "outputs": [
    {
     "data": {
      "text/plain": [
       "75"
      ]
     },
     "execution_count": 10,
     "metadata": {},
     "output_type": "execute_result"
    }
   ],
   "source": [
    "len(df.loc[(df.fare_amount < 1)])"
   ]
  },
  {
   "cell_type": "code",
   "execution_count": 11,
   "metadata": {
    "colab": {
     "base_uri": "https://localhost:8080/"
    },
    "executionInfo": {
     "elapsed": 6,
     "status": "ok",
     "timestamp": 1659325084748,
     "user": {
      "displayName": "Vivian Yamassaki",
      "userId": "04328423261350970754"
     },
     "user_tz": 180
    },
    "id": "nPHFiO4A6SkY",
    "outputId": "62fdf184-0e29-42a8-e8f8-11f26ca6914d"
   },
   "outputs": [
    {
     "data": {
      "text/plain": [
       "396"
      ]
     },
     "execution_count": 11,
     "metadata": {},
     "output_type": "execute_result"
    }
   ],
   "source": [
    "len(df.loc[(df.fare_amount > 100)]) #.loc retorna rótulo de índice"
   ]
  },
  {
   "cell_type": "code",
   "execution_count": 12,
   "metadata": {
    "id": "MQGBkRtY6SkZ"
   },
   "outputs": [],
   "source": [
    "df = df.loc[(df.fare_amount >= 1) & (df.fare_amount <= 100)]"
   ]
  },
  {
   "cell_type": "code",
   "execution_count": 13,
   "metadata": {
    "colab": {
     "base_uri": "https://localhost:8080/",
     "height": 296
    },
    "executionInfo": {
     "elapsed": 1322,
     "status": "ok",
     "timestamp": 1659325086067,
     "user": {
      "displayName": "Vivian Yamassaki",
      "userId": "04328423261350970754"
     },
     "user_tz": 180
    },
    "id": "xEfRRUKU6SkZ",
    "outputId": "a92d2c8a-c889-48df-c9f9-27ec6fbb8bf8"
   },
   "outputs": [
    {
     "data": {
      "image/png": "[encoded data removed]",
      "text/plain": [
       "<Figure size 432x288 with 1 Axes>"
      ]
     },
     "metadata": {
      "needs_background": "light"
     },
     "output_type": "display_data"
    }
   ],
   "source": [
    "sns.boxplot(df.fare_amount).set_title(\"Distribuição do valor pago pela corrida de táxi (target) após remoção de valores extremos\");"
   ]
  },
  {
   "cell_type": "code",
   "execution_count": 14,
   "metadata": {
    "colab": {
     "base_uri": "https://localhost:8080/",
     "height": 296
    },
    "executionInfo": {
     "elapsed": 5712,
     "status": "ok",
     "timestamp": 1659325091777,
     "user": {
      "displayName": "Vivian Yamassaki",
      "userId": "04328423261350970754"
     },
     "user_tz": 180
    },
    "id": "sTT9XleU6SkZ",
    "outputId": "c069f286-7ee4-47f7-fffa-860c1dd1d08e"
   },
   "outputs": [
    {
     "data": {
      "image/png": "[encoded data removed]",
      "text/plain": [
       "<Figure size 432x288 with 1 Axes>"
      ]
     },
     "metadata": {
      "needs_background": "light"
     },
     "output_type": "display_data"
    }
   ],
   "source": [
    "sns.distplot(df.fare_amount).set_title(\"Distribuição do valor pago pela corrida de táxi (target) após remoção de valores extremos\");"
   ]
  },
  {
   "cell_type": "code",
   "execution_count": 15,
   "metadata": {
    "colab": {
     "base_uri": "https://localhost:8080/"
    },
    "executionInfo": {
     "elapsed": 3183,
     "status": "ok",
     "timestamp": 1659325094958,
     "user": {
      "displayName": "Vivian Yamassaki",
      "userId": "04328423261350970754"
     },
     "user_tz": 180
    },
    "id": "caaaXqvq6Ska",
    "outputId": "2a1a7828-f5f8-4d09-99f3-560aabe0bf97"
   },
   "outputs": [
    {
     "name": "stdout",
     "output_type": "stream",
     "text": [
      "<class 'pandas.core.frame.DataFrame'>\n",
      "Int64Index: 999519 entries, 0 to 999999\n",
      "Data columns (total 8 columns):\n",
      " #   Column             Non-Null Count   Dtype         \n",
      "---  ------             --------------   -----         \n",
      " 0   key                999519 non-null  object        \n",
      " 1   fare_amount        999519 non-null  float64       \n",
      " 2   pickup_datetime    999519 non-null  datetime64[ns]\n",
      " 3   pickup_longitude   999519 non-null  float64       \n",
      " 4   pickup_latitude    999519 non-null  float64       \n",
      " 5   dropoff_longitude  999519 non-null  float64       \n",
      " 6   dropoff_latitude   999519 non-null  float64       \n",
      " 7   passenger_count    999519 non-null  int64         \n",
      "dtypes: datetime64[ns](1), float64(5), int64(1), object(1)\n",
      "memory usage: 68.6+ MB\n"
     ]
    }
   ],
   "source": [
    "df['pickup_datetime'] = pd.to_datetime(df['pickup_datetime'],format='%Y-%m-%d %H:%M:%S UTC') \n",
    "df.info()"
   ]
  },
  {
   "cell_type": "code",
   "execution_count": 16,
   "metadata": {
    "id": "Ap_HYEi66Ska"
   },
   "outputs": [],
   "source": [
    "# horário\n",
    "df['pickup_hour']=df['pickup_datetime'].apply(lambda x:x.hour)\n",
    "# dia da semana (0 é segunda e 6 é domingo)\n",
    "df['pickup_day_of_week']=df['pickup_datetime'].apply(lambda x:x.weekday())\n",
    "# dia\n",
    "df['pickup_day']=df['pickup_datetime'].apply(lambda x:x.day)\n",
    "# mês\n",
    "df['pickup_month']=df['pickup_datetime'].apply(lambda x:x.month)\n",
    "# ano\n",
    "df['pickup_year']=df['pickup_datetime'].apply(lambda x:x.year)"
   ]
  },
  {
   "cell_type": "code",
   "execution_count": 17,
   "metadata": {
    "colab": {
     "base_uri": "https://localhost:8080/",
     "height": 156
    },
    "executionInfo": {
     "elapsed": 11,
     "status": "ok",
     "timestamp": 1659325117498,
     "user": {
      "displayName": "Vivian Yamassaki",
      "userId": "04328423261350970754"
     },
     "user_tz": 180
    },
    "id": "rdJgYdW46Ska",
    "outputId": "b4ffaada-4781-44b1-8939-f20801a39d45"
   },
   "outputs": [
    {
     "data": {
      "text/html": [
       "<div>\n",
       "<style scoped>\n",
       "    .dataframe tbody tr th:only-of-type {\n",
       "        vertical-align: middle;\n",
       "    }\n",
       "\n",
       "    .dataframe tbody tr th {\n",
       "        vertical-align: top;\n",
       "    }\n",
       "\n",
       "    .dataframe thead th {\n",
       "        text-align: right;\n",
       "    }\n",
       "</style>\n",
       "<table border=\"1\" class=\"dataframe\">\n",
       "  <thead>\n",
       "    <tr style=\"text-align: right;\">\n",
       "      <th></th>\n",
       "      <th>key</th>\n",
       "      <th>fare_amount</th>\n",
       "      <th>pickup_datetime</th>\n",
       "      <th>pickup_longitude</th>\n",
       "      <th>pickup_latitude</th>\n",
       "      <th>dropoff_longitude</th>\n",
       "      <th>dropoff_latitude</th>\n",
       "      <th>passenger_count</th>\n",
       "      <th>pickup_hour</th>\n",
       "      <th>pickup_day_of_week</th>\n",
       "      <th>pickup_day</th>\n",
       "      <th>pickup_month</th>\n",
       "      <th>pickup_year</th>\n",
       "    </tr>\n",
       "  </thead>\n",
       "  <tbody>\n",
       "    <tr>\n",
       "      <th>0</th>\n",
       "      <td>2009-06-15 17:26:21.0000001</td>\n",
       "      <td>4.5</td>\n",
       "      <td>2009-06-15 17:26:21</td>\n",
       "      <td>-73.844311</td>\n",
       "      <td>40.721319</td>\n",
       "      <td>-73.841610</td>\n",
       "      <td>40.712278</td>\n",
       "      <td>1</td>\n",
       "      <td>17</td>\n",
       "      <td>0</td>\n",
       "      <td>15</td>\n",
       "      <td>6</td>\n",
       "      <td>2009</td>\n",
       "    </tr>\n",
       "    <tr>\n",
       "      <th>1</th>\n",
       "      <td>2010-01-05 16:52:16.0000002</td>\n",
       "      <td>16.9</td>\n",
       "      <td>2010-01-05 16:52:16</td>\n",
       "      <td>-74.016048</td>\n",
       "      <td>40.711303</td>\n",
       "      <td>-73.979268</td>\n",
       "      <td>40.782004</td>\n",
       "      <td>1</td>\n",
       "      <td>16</td>\n",
       "      <td>1</td>\n",
       "      <td>5</td>\n",
       "      <td>1</td>\n",
       "      <td>2010</td>\n",
       "    </tr>\n",
       "  </tbody>\n",
       "</table>\n",
       "</div>"
      ],
      "text/plain": [
       "                           key  fare_amount     pickup_datetime  \\\n",
       "0  2009-06-15 17:26:21.0000001          4.5 2009-06-15 17:26:21   \n",
       "1  2010-01-05 16:52:16.0000002         16.9 2010-01-05 16:52:16   \n",
       "\n",
       "   pickup_longitude  pickup_latitude  dropoff_longitude  dropoff_latitude  \\\n",
       "0        -73.844311        40.721319         -73.841610         40.712278   \n",
       "1        -74.016048        40.711303         -73.979268         40.782004   \n",
       "\n",
       "   passenger_count  pickup_hour  pickup_day_of_week  pickup_day  pickup_month  \\\n",
       "0                1           17                   0          15             6   \n",
       "1                1           16                   1           5             1   \n",
       "\n",
       "   pickup_year  \n",
       "0         2009  \n",
       "1         2010  "
      ]
     },
     "execution_count": 17,
     "metadata": {},
     "output_type": "execute_result"
    }
   ],
   "source": [
    "df.head(2)"
   ]
  },
  {
   "cell_type": "markdown",
   "metadata": {
    "id": "BzfZVQLB6Skb"
   },
   "source": [
    "**Horário**"
   ]
  },
  {
   "cell_type": "code",
   "execution_count": 18,
   "metadata": {
    "colab": {
     "base_uri": "https://localhost:8080/",
     "height": 296
    },
    "executionInfo": {
     "elapsed": 571,
     "status": "ok",
     "timestamp": 1659325118060,
     "user": {
      "displayName": "Vivian Yamassaki",
      "userId": "04328423261350970754"
     },
     "user_tz": 180
    },
    "id": "fEq1RUUt6Skb",
    "outputId": "1ac1d3e0-7be1-4697-85bb-6a5bf048c401"
   },
   "outputs": [
    {
     "data": {
      "image/png": "[encoded data removed]",
      "text/plain": [
       "<Figure size 432x288 with 1 Axes>"
      ]
     },
     "metadata": {
      "needs_background": "light"
     },
     "output_type": "display_data"
    }
   ],
   "source": [
    "sns.countplot(df['pickup_hour']).set_title(\"Contagem de corridas com base no horário de início da mesma\");"
   ]
  },
  {
   "cell_type": "code",
   "execution_count": 19,
   "metadata": {
    "colab": {
     "base_uri": "https://localhost:8080/",
     "height": 385
    },
    "executionInfo": {
     "elapsed": 18809,
     "status": "ok",
     "timestamp": 1659325136867,
     "user": {
      "displayName": "Vivian Yamassaki",
      "userId": "04328423261350970754"
     },
     "user_tz": 180
    },
    "id": "wD_u3CyK6Skb",
    "outputId": "97b662fc-24b1-4b8b-f04f-0d673e6c0dbc"
   },
   "outputs": [
    {
     "data": {
      "image/png": "[encoded data removed]",
      "text/plain": [
       "<Figure size 360x360 with 1 Axes>"
      ]
     },
     "metadata": {
      "needs_background": "light"
     },
     "output_type": "display_data"
    }
   ],
   "source": [
    "sns.catplot(x=\"pickup_hour\", y=\"fare_amount\", data=df,kind=\"bar\").set(title=\"Valor médio pago pela corrida de acordo com o horário de início da mesma\");"
   ]
  },
  {
   "cell_type": "markdown",
   "metadata": {
    "id": "OZzBaBha6Skb"
   },
   "source": [
    "**Dia da semana**"
   ]
  },
  {
   "cell_type": "code",
   "execution_count": 20,
   "metadata": {
    "id": "bog1bGdC6Skc"
   },
   "outputs": [],
   "source": [
    "# Vamos fazer a conversão dos dias da semana para facilitar a leitura\n",
    "def convert_day_of_week(day_of_week):\n",
    "    day_dict={0:'Segunda',1:'Terça',2:'Quarta',3:'Quinta',4:'Sexta',5:'Sábado',6:'Domingo'}\n",
    "    return day_dict[day_of_week]"
   ]
  },
  {
   "cell_type": "code",
   "execution_count": 21,
   "metadata": {
    "id": "-vbjtEKp6Skc"
   },
   "outputs": [],
   "source": [
    "df['pickup_day_of_week_name']=df['pickup_day_of_week'].apply(lambda x:convert_day_of_week(x))"
   ]
  },
  {
   "cell_type": "code",
   "execution_count": 22,
   "metadata": {
    "id": "BI93QZp06Skc"
   },
   "outputs": [],
   "source": [
    "week_day_name = ['Segunda','Terça','Quarta','Quinta','Sexta','Sábado','Domingo']"
   ]
  },
  {
   "cell_type": "code",
   "execution_count": 23,
   "metadata": {
    "colab": {
     "base_uri": "https://localhost:8080/",
     "height": 296
    },
    "executionInfo": {
     "elapsed": 515,
     "status": "ok",
     "timestamp": 1659325137903,
     "user": {
      "displayName": "Vivian Yamassaki",
      "userId": "04328423261350970754"
     },
     "user_tz": 180
    },
    "id": "mDYxkFMw6Skc",
    "outputId": "370dd19b-b503-4362-ba4f-f9e359016daf"
   },
   "outputs": [
    {
     "data": {
      "image/png": "[encoded data removed]",
      "text/plain": [
       "<Figure size 432x288 with 1 Axes>"
      ]
     },
     "metadata": {
      "needs_background": "light"
     },
     "output_type": "display_data"
    }
   ],
   "source": [
    "sns.countplot(df['pickup_day_of_week_name'],order=week_day_name).set_title(\"Contagem de corridas com base no dia da semana da mesma\");"
   ]
  },
  {
   "cell_type": "code",
   "execution_count": 24,
   "metadata": {
    "colab": {
     "base_uri": "https://localhost:8080/",
     "height": 385
    },
    "executionInfo": {
     "elapsed": 24099,
     "status": "ok",
     "timestamp": 1659325162000,
     "user": {
      "displayName": "Vivian Yamassaki",
      "userId": "04328423261350970754"
     },
     "user_tz": 180
    },
    "id": "3yPxWdsB6Skc",
    "outputId": "28ffa6fd-a4b9-4286-9572-94272bb37247",
    "scrolled": false
   },
   "outputs": [
    {
     "data": {
      "image/png": "[encoded data removed]",
      "text/plain": [
       "<Figure size 360x360 with 1 Axes>"
      ]
     },
     "metadata": {
      "needs_background": "light"
     },
     "output_type": "display_data"
    }
   ],
   "source": [
    "sns.catplot(x=\"pickup_day_of_week_name\", y=\"fare_amount\", data=df,\n",
    "            order=week_day_name,kind=\"bar\").set(title=\"Valor médio pago pela corrida de acordo com base no dia da semana da mesma\");"
   ]
  },
  {
   "cell_type": "markdown",
   "metadata": {
    "id": "f1HzaB9L6Skd"
   },
   "source": [
    "**Dia**"
   ]
  },
  {
   "cell_type": "code",
   "execution_count": 25,
   "metadata": {
    "colab": {
     "base_uri": "https://localhost:8080/",
     "height": 299
    },
    "executionInfo": {
     "elapsed": 638,
     "status": "ok",
     "timestamp": 1659325162635,
     "user": {
      "displayName": "Vivian Yamassaki",
      "userId": "04328423261350970754"
     },
     "user_tz": 180
    },
    "id": "0lSiHD3q6Skd",
    "outputId": "224d42ab-bd43-4729-8d3c-0cde2fb3d34c"
   },
   "outputs": [
    {
     "data": {
      "image/png": "[encoded data removed]",
      "text/plain": [
       "<Figure size 432x288 with 1 Axes>"
      ]
     },
     "metadata": {
      "needs_background": "light"
     },
     "output_type": "display_data"
    }
   ],
   "source": [
    "sns.countplot(df['pickup_day']).set_title(\"Contagem de corridas com base no dia em que ela ocorreu\");\n",
    "plt.xticks(rotation=90);"
   ]
  },
  {
   "cell_type": "code",
   "execution_count": 26,
   "metadata": {
    "colab": {
     "base_uri": "https://localhost:8080/",
     "height": 388
    },
    "executionInfo": {
     "elapsed": 20025,
     "status": "ok",
     "timestamp": 1659325182658,
     "user": {
      "displayName": "Vivian Yamassaki",
      "userId": "04328423261350970754"
     },
     "user_tz": 180
    },
    "id": "EGVtVUu06Skd",
    "outputId": "85da4fe7-9cb4-4239-f174-1844fe445f39"
   },
   "outputs": [
    {
     "data": {
      "image/png": "[encoded data removed]",
      "text/plain": [
       "<Figure size 360x360 with 1 Axes>"
      ]
     },
     "metadata": {
      "needs_background": "light"
     },
     "output_type": "display_data"
    }
   ],
   "source": [
    "sns.catplot(x=\"pickup_day\", y=\"fare_amount\", data=df,kind=\"bar\").set(title=\"Valor médio pago pela corrida de acordo com o dia em que ela ocorreu\");\n",
    "plt.xticks(rotation=90);"
   ]
  },
  {
   "cell_type": "markdown",
   "metadata": {
    "id": "qGCiYkdB6Skd"
   },
   "source": [
    "**Mês**"
   ]
  },
  {
   "cell_type": "code",
   "execution_count": 27,
   "metadata": {
    "colab": {
     "base_uri": "https://localhost:8080/",
     "height": 296
    },
    "executionInfo": {
     "elapsed": 3,
     "status": "ok",
     "timestamp": 1659325182658,
     "user": {
      "displayName": "Vivian Yamassaki",
      "userId": "04328423261350970754"
     },
     "user_tz": 180
    },
    "id": "H5ohj4aL6Skd",
    "outputId": "014b6335-0c3a-494c-c644-a47e3733d898"
   },
   "outputs": [
    {
     "data": {
      "image/png": "[encoded data removed]",
      "text/plain": [
       "<Figure size 432x288 with 1 Axes>"
      ]
     },
     "metadata": {
      "needs_background": "light"
     },
     "output_type": "display_data"
    }
   ],
   "source": [
    "sns.countplot(df['pickup_month']).set_title(\"Contagem de corridas com base no mês em que ela ocorreu\");"
   ]
  },
  {
   "cell_type": "code",
   "execution_count": 28,
   "metadata": {
    "colab": {
     "base_uri": "https://localhost:8080/",
     "height": 385
    },
    "executionInfo": {
     "elapsed": 22527,
     "status": "ok",
     "timestamp": 1659325205183,
     "user": {
      "displayName": "Vivian Yamassaki",
      "userId": "04328423261350970754"
     },
     "user_tz": 180
    },
    "id": "tVdXdAV76Ske",
    "outputId": "19a20af2-d258-4f11-e453-9a33cc55a96a"
   },
   "outputs": [
    {
     "data": {
      "image/png": "[encoded data removed]",
      "text/plain": [
       "<Figure size 360x360 with 1 Axes>"
      ]
     },
     "metadata": {
      "needs_background": "light"
     },
     "output_type": "display_data"
    }
   ],
   "source": [
    "sns.catplot(x=\"pickup_month\", y=\"fare_amount\", data=df,kind=\"bar\").set(title=\"Valor médio pago pela corrida de acordo com o mês em que ela ocorreu\");"
   ]
  },
  {
   "cell_type": "markdown",
   "metadata": {
    "id": "7vzpe5hC6Ske"
   },
   "source": [
    "**Ano**"
   ]
  },
  {
   "cell_type": "code",
   "execution_count": 29,
   "metadata": {
    "colab": {
     "base_uri": "https://localhost:8080/",
     "height": 296
    },
    "executionInfo": {
     "elapsed": 3,
     "status": "ok",
     "timestamp": 1659325205183,
     "user": {
      "displayName": "Vivian Yamassaki",
      "userId": "04328423261350970754"
     },
     "user_tz": 180
    },
    "id": "om3gqd5F6Ske",
    "outputId": "f4310d58-ffa5-4202-d136-2503742231fa"
   },
   "outputs": [
    {
     "data": {
      "image/png": "[encoded data removed]",
      "text/plain": [
       "<Figure size 432x288 with 1 Axes>"
      ]
     },
     "metadata": {
      "needs_background": "light"
     },
     "output_type": "display_data"
    }
   ],
   "source": [
    "sns.countplot(df['pickup_year']).set_title(\"Contagem de corridas com base no ano em que ela ocorreu\");"
   ]
  },
  {
   "cell_type": "code",
   "execution_count": 30,
   "metadata": {
    "colab": {
     "base_uri": "https://localhost:8080/",
     "height": 385
    },
    "executionInfo": {
     "elapsed": 23386,
     "status": "ok",
     "timestamp": 1659325228567,
     "user": {
      "displayName": "Vivian Yamassaki",
      "userId": "04328423261350970754"
     },
     "user_tz": 180
    },
    "id": "ZVrDkGfW6Ske",
    "outputId": "eb2a2c5e-4620-4162-9d82-e73e91c31dee"
   },
   "outputs": [
    {
     "data": {
      "image/png": "[encoded data removed]",
      "text/plain": [
       "<Figure size 360x360 with 1 Axes>"
      ]
     },
     "metadata": {
      "needs_background": "light"
     },
     "output_type": "display_data"
    }
   ],
   "source": [
    "sns.catplot(x=\"pickup_year\", y=\"fare_amount\", data=df,kind=\"bar\").set(title=\"Valor médio pago pela corrida de acordo com o ano em que ela ocorreu\");"
   ]
  },
  {
   "cell_type": "markdown",
   "metadata": {
    "id": "Eav0__9t6Ske"
   },
   "source": [
    "**`latitude e longitude`**"
   ]
  },
  {
   "cell_type": "code",
   "execution_count": 31,
   "metadata": {
    "colab": {
     "base_uri": "https://localhost:8080/",
     "height": 300
    },
    "executionInfo": {
     "elapsed": 4,
     "status": "ok",
     "timestamp": 1659325228567,
     "user": {
      "displayName": "Vivian Yamassaki",
      "userId": "04328423261350970754"
     },
     "user_tz": 180
    },
    "id": "X2c1wkJ36Ske",
    "outputId": "a6f7b967-dee8-4325-c958-2a5ee530f6f7"
   },
   "outputs": [
    {
     "data": {
      "text/html": [
       "<div>\n",
       "<style scoped>\n",
       "    .dataframe tbody tr th:only-of-type {\n",
       "        vertical-align: middle;\n",
       "    }\n",
       "\n",
       "    .dataframe tbody tr th {\n",
       "        vertical-align: top;\n",
       "    }\n",
       "\n",
       "    .dataframe thead th {\n",
       "        text-align: right;\n",
       "    }\n",
       "</style>\n",
       "<table border=\"1\" class=\"dataframe\">\n",
       "  <thead>\n",
       "    <tr style=\"text-align: right;\">\n",
       "      <th></th>\n",
       "      <th>pickup_latitude</th>\n",
       "      <th>pickup_longitude</th>\n",
       "      <th>dropoff_latitude</th>\n",
       "      <th>dropoff_longitude</th>\n",
       "    </tr>\n",
       "  </thead>\n",
       "  <tbody>\n",
       "    <tr>\n",
       "      <th>count</th>\n",
       "      <td>999519.000000</td>\n",
       "      <td>999519.000000</td>\n",
       "      <td>999519.000000</td>\n",
       "      <td>999519.000000</td>\n",
       "    </tr>\n",
       "    <tr>\n",
       "      <th>mean</th>\n",
       "      <td>39.930365</td>\n",
       "      <td>-72.529162</td>\n",
       "      <td>39.921741</td>\n",
       "      <td>-72.531198</td>\n",
       "    </tr>\n",
       "    <tr>\n",
       "      <th>std</th>\n",
       "      <td>7.623472</td>\n",
       "      <td>12.051418</td>\n",
       "      <td>8.198080</td>\n",
       "      <td>11.314573</td>\n",
       "    </tr>\n",
       "    <tr>\n",
       "      <th>min</th>\n",
       "      <td>-3116.285383</td>\n",
       "      <td>-3377.680935</td>\n",
       "      <td>-3114.338567</td>\n",
       "      <td>-3383.296608</td>\n",
       "    </tr>\n",
       "    <tr>\n",
       "      <th>25%</th>\n",
       "      <td>40.734977</td>\n",
       "      <td>-73.992061</td>\n",
       "      <td>40.734055</td>\n",
       "      <td>-73.991382</td>\n",
       "    </tr>\n",
       "    <tr>\n",
       "      <th>50%</th>\n",
       "      <td>40.752697</td>\n",
       "      <td>-73.981796</td>\n",
       "      <td>40.753166</td>\n",
       "      <td>-73.980136</td>\n",
       "    </tr>\n",
       "    <tr>\n",
       "      <th>75%</th>\n",
       "      <td>40.767151</td>\n",
       "      <td>-73.967110</td>\n",
       "      <td>40.768122</td>\n",
       "      <td>-73.963666</td>\n",
       "    </tr>\n",
       "    <tr>\n",
       "      <th>max</th>\n",
       "      <td>2621.628430</td>\n",
       "      <td>2522.271325</td>\n",
       "      <td>1651.553433</td>\n",
       "      <td>45.581619</td>\n",
       "    </tr>\n",
       "  </tbody>\n",
       "</table>\n",
       "</div>"
      ],
      "text/plain": [
       "       pickup_latitude  pickup_longitude  dropoff_latitude  dropoff_longitude\n",
       "count    999519.000000     999519.000000     999519.000000      999519.000000\n",
       "mean         39.930365        -72.529162         39.921741         -72.531198\n",
       "std           7.623472         12.051418          8.198080          11.314573\n",
       "min       -3116.285383      -3377.680935      -3114.338567       -3383.296608\n",
       "25%          40.734977        -73.992061         40.734055         -73.991382\n",
       "50%          40.752697        -73.981796         40.753166         -73.980136\n",
       "75%          40.767151        -73.967110         40.768122         -73.963666\n",
       "max        2621.628430       2522.271325       1651.553433          45.581619"
      ]
     },
     "execution_count": 31,
     "metadata": {},
     "output_type": "execute_result"
    }
   ],
   "source": [
    "df[['pickup_latitude', 'pickup_longitude', 'dropoff_latitude', 'dropoff_longitude']].describe()"
   ]
  },
  {
   "cell_type": "code",
   "execution_count": 32,
   "metadata": {
    "colab": {
     "base_uri": "https://localhost:8080/"
    },
    "executionInfo": {
     "elapsed": 523,
     "status": "ok",
     "timestamp": 1659325229087,
     "user": {
      "displayName": "Vivian Yamassaki",
      "userId": "04328423261350970754"
     },
     "user_tz": 180
    },
    "id": "ZqCHsk3-6Skf",
    "outputId": "5c6c90ff-7e9d-428a-8013-4978cc890532"
   },
   "outputs": [
    {
     "name": "stdout",
     "output_type": "stream",
     "text": [
      "Tamanho conjunto de dados (antes da remoção de valores faltantes): 999519\n",
      "Tamanho conjunto de dados (depois da remoção de valores faltantes): 999479\n"
     ]
    }
   ],
   "source": [
    "print(f'Tamanho conjunto de dados (antes da remoção de valores faltantes): {len(df)}')\n",
    "df = df.loc[(df.pickup_latitude>=-90) & (df.pickup_latitude<=90)]\n",
    "df = df.loc[(df.pickup_longitude>=-180) & (df.pickup_longitude<=180)]\n",
    "df = df.loc[(df.dropoff_latitude>=-90) & (df.dropoff_latitude<=90)]\n",
    "df = df.loc[(df.dropoff_longitude>=-180) & (df.dropoff_longitude<=180)]\n",
    "print(f'Tamanho conjunto de dados (depois da remoção de valores faltantes): {len(df)}')"
   ]
  },
  {
   "cell_type": "code",
   "execution_count": 33,
   "metadata": {
    "colab": {
     "base_uri": "https://localhost:8080/",
     "height": 300
    },
    "executionInfo": {
     "elapsed": 3,
     "status": "ok",
     "timestamp": 1659325229088,
     "user": {
      "displayName": "Vivian Yamassaki",
      "userId": "04328423261350970754"
     },
     "user_tz": 180
    },
    "id": "FXxZMgNy6Skh",
    "outputId": "21ebe506-ea1b-4eef-b59c-bcd835368664"
   },
   "outputs": [
    {
     "data": {
      "text/html": [
       "<div>\n",
       "<style scoped>\n",
       "    .dataframe tbody tr th:only-of-type {\n",
       "        vertical-align: middle;\n",
       "    }\n",
       "\n",
       "    .dataframe tbody tr th {\n",
       "        vertical-align: top;\n",
       "    }\n",
       "\n",
       "    .dataframe thead th {\n",
       "        text-align: right;\n",
       "    }\n",
       "</style>\n",
       "<table border=\"1\" class=\"dataframe\">\n",
       "  <thead>\n",
       "    <tr style=\"text-align: right;\">\n",
       "      <th></th>\n",
       "      <th>pickup_latitude</th>\n",
       "      <th>pickup_longitude</th>\n",
       "      <th>dropoff_latitude</th>\n",
       "      <th>dropoff_longitude</th>\n",
       "    </tr>\n",
       "  </thead>\n",
       "  <tbody>\n",
       "    <tr>\n",
       "      <th>count</th>\n",
       "      <td>999479.000000</td>\n",
       "      <td>999479.000000</td>\n",
       "      <td>999479.000000</td>\n",
       "      <td>999479.000000</td>\n",
       "    </tr>\n",
       "    <tr>\n",
       "      <th>mean</th>\n",
       "      <td>39.928068</td>\n",
       "      <td>-72.519762</td>\n",
       "      <td>39.927656</td>\n",
       "      <td>-72.518556</td>\n",
       "    </tr>\n",
       "    <tr>\n",
       "      <th>std</th>\n",
       "      <td>6.085292</td>\n",
       "      <td>10.385367</td>\n",
       "      <td>6.088085</td>\n",
       "      <td>10.386105</td>\n",
       "    </tr>\n",
       "    <tr>\n",
       "      <th>min</th>\n",
       "      <td>-74.016587</td>\n",
       "      <td>-128.175950</td>\n",
       "      <td>-74.035197</td>\n",
       "      <td>-121.391248</td>\n",
       "    </tr>\n",
       "    <tr>\n",
       "      <th>25%</th>\n",
       "      <td>40.734977</td>\n",
       "      <td>-73.992060</td>\n",
       "      <td>40.734055</td>\n",
       "      <td>-73.991382</td>\n",
       "    </tr>\n",
       "    <tr>\n",
       "      <th>50%</th>\n",
       "      <td>40.752697</td>\n",
       "      <td>-73.981796</td>\n",
       "      <td>40.753165</td>\n",
       "      <td>-73.980136</td>\n",
       "    </tr>\n",
       "    <tr>\n",
       "      <th>75%</th>\n",
       "      <td>40.767151</td>\n",
       "      <td>-73.967110</td>\n",
       "      <td>40.768122</td>\n",
       "      <td>-73.963666</td>\n",
       "    </tr>\n",
       "    <tr>\n",
       "      <th>max</th>\n",
       "      <td>69.400000</td>\n",
       "      <td>40.850357</td>\n",
       "      <td>81.510177</td>\n",
       "      <td>45.581619</td>\n",
       "    </tr>\n",
       "  </tbody>\n",
       "</table>\n",
       "</div>"
      ],
      "text/plain": [
       "       pickup_latitude  pickup_longitude  dropoff_latitude  dropoff_longitude\n",
       "count    999479.000000     999479.000000     999479.000000      999479.000000\n",
       "mean         39.928068        -72.519762         39.927656         -72.518556\n",
       "std           6.085292         10.385367          6.088085          10.386105\n",
       "min         -74.016587       -128.175950        -74.035197        -121.391248\n",
       "25%          40.734977        -73.992060         40.734055         -73.991382\n",
       "50%          40.752697        -73.981796         40.753165         -73.980136\n",
       "75%          40.767151        -73.967110         40.768122         -73.963666\n",
       "max          69.400000         40.850357         81.510177          45.581619"
      ]
     },
     "execution_count": 33,
     "metadata": {},
     "output_type": "execute_result"
    }
   ],
   "source": [
    "df[['pickup_latitude', 'pickup_longitude', 'dropoff_latitude', 'dropoff_longitude']].describe()"
   ]
  },
  {
   "cell_type": "markdown",
   "metadata": {
    "id": "GCQ58mWQ6Ski"
   },
   "source": [
    "**Pontos de origem da corrida**"
   ]
  },
  {
   "cell_type": "code",
   "execution_count": 34,
   "metadata": {
    "colab": {
     "base_uri": "https://localhost:8080/",
     "height": 296
    },
    "executionInfo": {
     "elapsed": 1427,
     "status": "ok",
     "timestamp": 1659325231023,
     "user": {
      "displayName": "Vivian Yamassaki",
      "userId": "04328423261350970754"
     },
     "user_tz": 180
    },
    "id": "nmaEzQTf6Ski",
    "outputId": "44e97520-5d20-4d3b-db98-3ef77e894648"
   },
   "outputs": [
    {
     "data": {
      "image/png": "[encoded data removed]",
      "text/plain": [
       "<Figure size 432x288 with 1 Axes>"
      ]
     },
     "metadata": {
      "needs_background": "light"
     },
     "output_type": "display_data"
    }
   ],
   "source": [
    "df.plot(kind='scatter', x='pickup_longitude', y='pickup_latitude',\n",
    "                color='green', \n",
    "                s=.02, alpha=.6)\n",
    "plt.title(\"Pickups (coordenadas dos locais de início das corridas do conjunto de dados)\");"
   ]
  },
  {
   "cell_type": "code",
   "execution_count": 35,
   "metadata": {
    "id": "Vaio6Qpa6Ski"
   },
   "outputs": [],
   "source": [
    "long_interval = (-74.04, -73.75)\n",
    "lat_interval = (40.63, 40.88)"
   ]
  },
  {
   "cell_type": "code",
   "execution_count": 36,
   "metadata": {
    "colab": {
     "base_uri": "https://localhost:8080/",
     "height": 296
    },
    "executionInfo": {
     "elapsed": 1875,
     "status": "ok",
     "timestamp": 1659325232897,
     "user": {
      "displayName": "Vivian Yamassaki",
      "userId": "04328423261350970754"
     },
     "user_tz": 180
    },
    "id": "ya8ighy56Ski",
    "outputId": "098635b9-b43d-4bb1-c215-dcecf1cdf81c"
   },
   "outputs": [
    {
     "data": {
      "image/png": "[encoded data removed]",
      "text/plain": [
       "<Figure size 432x288 with 1 Axes>"
      ]
     },
     "metadata": {
      "needs_background": "light"
     },
     "output_type": "display_data"
    }
   ],
   "source": [
    "df.plot(kind='scatter', x='pickup_longitude', y='pickup_latitude',\n",
    "                color='green', \n",
    "                s=.02, alpha=.6)\n",
    "plt.title(\"Origens das corridas\")\n",
    "plt.ylim(lat_interval)\n",
    "plt.xlim(long_interval);"
   ]
  },
  {
   "cell_type": "code",
   "execution_count": 37,
   "metadata": {
    "colab": {
     "base_uri": "https://localhost:8080/"
    },
    "executionInfo": {
     "elapsed": 4,
     "status": "ok",
     "timestamp": 1659325232897,
     "user": {
      "displayName": "Vivian Yamassaki",
      "userId": "04328423261350970754"
     },
     "user_tz": 180
    },
    "id": "GzUbNk2z6Skj",
    "outputId": "2d689a98-34eb-45b9-90b0-ed781a974d1d"
   },
   "outputs": [
    {
     "name": "stdout",
     "output_type": "stream",
     "text": [
      "Tamanho conjunto de dados (antes da remoção de valores faltantes): 999479\n",
      "Tamanho conjunto de dados (depois da remoção de valores faltantes): 970979\n"
     ]
    }
   ],
   "source": [
    "print(f'Tamanho conjunto de dados (antes da remoção de valores faltantes): {len(df)}')\n",
    "df = df.loc[(df.pickup_latitude>=40.63) & (df.pickup_latitude<=40.88)]\n",
    "df = df.loc[(df.pickup_longitude>=-74.04) & (df.pickup_longitude<=-73.75)]\n",
    "df = df.loc[(df.dropoff_latitude>=40.63) & (df.dropoff_latitude<=40.88)]\n",
    "df = df.loc[(df.dropoff_longitude>=-74.04) & (df.dropoff_longitude<=-73.75)]\n",
    "print(f'Tamanho conjunto de dados (depois da remoção de valores faltantes): {len(df)}')"
   ]
  },
  {
   "cell_type": "markdown",
   "metadata": {
    "id": "ebDa2p6a6Skj"
   },
   "source": [
    "**Pontos de destino da corrida**"
   ]
  },
  {
   "cell_type": "code",
   "execution_count": 38,
   "metadata": {
    "colab": {
     "base_uri": "https://localhost:8080/",
     "height": 296
    },
    "executionInfo": {
     "elapsed": 2045,
     "status": "ok",
     "timestamp": 1659325234940,
     "user": {
      "displayName": "Vivian Yamassaki",
      "userId": "04328423261350970754"
     },
     "user_tz": 180
    },
    "id": "AXWdKuJi6Skj",
    "outputId": "1c7afc17-cb3d-4904-f420-802d4570564a"
   },
   "outputs": [
    {
     "data": {
      "image/png": "[encoded data removed]",
      "text/plain": [
       "<Figure size 432x288 with 1 Axes>"
      ]
     },
     "metadata": {
      "needs_background": "light"
     },
     "output_type": "display_data"
    }
   ],
   "source": [
    "df.plot(kind='scatter', x='dropoff_longitude', y='dropoff_latitude',\n",
    "                color='green', \n",
    "                s=.02, alpha=.6)\n",
    "plt.title(\"Destinos das corridas\");"
   ]
  },
  {
   "cell_type": "code",
   "execution_count": 39,
   "metadata": {
    "id": "CnjYLcpL6Skk"
   },
   "outputs": [],
   "source": [
    "df['abs_diff_longitude'] = (df.dropoff_longitude - df.pickup_longitude).abs()\n",
    "df['abs_diff_latitude'] = (df.dropoff_latitude - df.pickup_latitude).abs()"
   ]
  },
  {
   "cell_type": "code",
   "execution_count": 40,
   "metadata": {
    "colab": {
     "base_uri": "https://localhost:8080/",
     "height": 300
    },
    "executionInfo": {
     "elapsed": 14,
     "status": "ok",
     "timestamp": 1659325234941,
     "user": {
      "displayName": "Vivian Yamassaki",
      "userId": "04328423261350970754"
     },
     "user_tz": 180
    },
    "id": "ckSY51Mq6Skk",
    "outputId": "a3b30143-ccd5-4bc6-9758-c565ee924968"
   },
   "outputs": [
    {
     "data": {
      "text/html": [
       "<div>\n",
       "<style scoped>\n",
       "    .dataframe tbody tr th:only-of-type {\n",
       "        vertical-align: middle;\n",
       "    }\n",
       "\n",
       "    .dataframe tbody tr th {\n",
       "        vertical-align: top;\n",
       "    }\n",
       "\n",
       "    .dataframe thead th {\n",
       "        text-align: right;\n",
       "    }\n",
       "</style>\n",
       "<table border=\"1\" class=\"dataframe\">\n",
       "  <thead>\n",
       "    <tr style=\"text-align: right;\">\n",
       "      <th></th>\n",
       "      <th>abs_diff_latitude</th>\n",
       "      <th>abs_diff_longitude</th>\n",
       "    </tr>\n",
       "  </thead>\n",
       "  <tbody>\n",
       "    <tr>\n",
       "      <th>count</th>\n",
       "      <td>970979.000000</td>\n",
       "      <td>970979.000000</td>\n",
       "    </tr>\n",
       "    <tr>\n",
       "      <th>mean</th>\n",
       "      <td>0.020785</td>\n",
       "      <td>0.022129</td>\n",
       "    </tr>\n",
       "    <tr>\n",
       "      <th>std</th>\n",
       "      <td>0.021742</td>\n",
       "      <td>0.032358</td>\n",
       "    </tr>\n",
       "    <tr>\n",
       "      <th>min</th>\n",
       "      <td>0.000000</td>\n",
       "      <td>0.000000</td>\n",
       "    </tr>\n",
       "    <tr>\n",
       "      <th>25%</th>\n",
       "      <td>0.006921</td>\n",
       "      <td>0.006116</td>\n",
       "    </tr>\n",
       "    <tr>\n",
       "      <th>50%</th>\n",
       "      <td>0.014084</td>\n",
       "      <td>0.012630</td>\n",
       "    </tr>\n",
       "    <tr>\n",
       "      <th>75%</th>\n",
       "      <td>0.026880</td>\n",
       "      <td>0.023665</td>\n",
       "    </tr>\n",
       "    <tr>\n",
       "      <th>max</th>\n",
       "      <td>0.237560</td>\n",
       "      <td>0.260020</td>\n",
       "    </tr>\n",
       "  </tbody>\n",
       "</table>\n",
       "</div>"
      ],
      "text/plain": [
       "       abs_diff_latitude  abs_diff_longitude\n",
       "count      970979.000000       970979.000000\n",
       "mean            0.020785            0.022129\n",
       "std             0.021742            0.032358\n",
       "min             0.000000            0.000000\n",
       "25%             0.006921            0.006116\n",
       "50%             0.014084            0.012630\n",
       "75%             0.026880            0.023665\n",
       "max             0.237560            0.260020"
      ]
     },
     "execution_count": 40,
     "metadata": {},
     "output_type": "execute_result"
    }
   ],
   "source": [
    "df[['abs_diff_latitude', 'abs_diff_longitude']].describe()"
   ]
  },
  {
   "cell_type": "markdown",
   "metadata": {
    "id": "lGff_Qqa6Skk"
   },
   "source": [
    "**`passenger_count`**"
   ]
  },
  {
   "cell_type": "code",
   "execution_count": 41,
   "metadata": {
    "colab": {
     "base_uri": "https://localhost:8080/"
    },
    "executionInfo": {
     "elapsed": 13,
     "status": "ok",
     "timestamp": 1659325234941,
     "user": {
      "displayName": "Vivian Yamassaki",
      "userId": "04328423261350970754"
     },
     "user_tz": 180
    },
    "id": "xg_PdyWt6Skk",
    "outputId": "a3670b0d-829c-491a-c37e-36e0879dcca6"
   },
   "outputs": [
    {
     "data": {
      "text/plain": [
       "3466"
      ]
     },
     "execution_count": 41,
     "metadata": {},
     "output_type": "execute_result"
    }
   ],
   "source": [
    "len(df.loc[df.passenger_count<1])"
   ]
  },
  {
   "cell_type": "code",
   "execution_count": 42,
   "metadata": {
    "colab": {
     "base_uri": "https://localhost:8080/"
    },
    "executionInfo": {
     "elapsed": 9,
     "status": "ok",
     "timestamp": 1659325234941,
     "user": {
      "displayName": "Vivian Yamassaki",
      "userId": "04328423261350970754"
     },
     "user_tz": 180
    },
    "id": "SLO9C0IV6Skl",
    "outputId": "ddb168ac-4914-45a2-a343-47ee76f3a5b2"
   },
   "outputs": [
    {
     "data": {
      "text/plain": [
       "89097"
      ]
     },
     "execution_count": 42,
     "metadata": {},
     "output_type": "execute_result"
    }
   ],
   "source": [
    "len(df.loc[df.passenger_count>4])"
   ]
  },
  {
   "cell_type": "code",
   "execution_count": 43,
   "metadata": {
    "id": "R9EtszYD6Skl"
   },
   "outputs": [],
   "source": [
    "df = df.loc[(df.passenger_count > 0) & (df.passenger_count<5)]"
   ]
  },
  {
   "cell_type": "code",
   "execution_count": 44,
   "metadata": {
    "colab": {
     "base_uri": "https://localhost:8080/",
     "height": 296
    },
    "executionInfo": {
     "elapsed": 6,
     "status": "ok",
     "timestamp": 1659325234942,
     "user": {
      "displayName": "Vivian Yamassaki",
      "userId": "04328423261350970754"
     },
     "user_tz": 180
    },
    "id": "9KRtA5q86Skl",
    "outputId": "6dafd2f8-3d41-4358-9e37-716116ef4b78"
   },
   "outputs": [
    {
     "data": {
      "image/png": "[encoded data removed]",
      "text/plain": [
       "<Figure size 432x288 with 1 Axes>"
      ]
     },
     "metadata": {
      "needs_background": "light"
     },
     "output_type": "display_data"
    }
   ],
   "source": [
    "sns.countplot(df['passenger_count']).set_title(\"Contagem de corridas com base no quantidade de passageiros\");"
   ]
  },
  {
   "cell_type": "code",
   "execution_count": 45,
   "metadata": {
    "colab": {
     "base_uri": "https://localhost:8080/",
     "height": 385
    },
    "executionInfo": {
     "elapsed": 31523,
     "status": "ok",
     "timestamp": 1659325266460,
     "user": {
      "displayName": "Vivian Yamassaki",
      "userId": "04328423261350970754"
     },
     "user_tz": 180
    },
    "id": "CzlxL8tq6Skl",
    "outputId": "a837c173-a4d1-48d7-cbc9-9845f8e21903"
   },
   "outputs": [
    {
     "data": {
      "image/png": "[encoded data removed]",
      "text/plain": [
       "<Figure size 360x360 with 1 Axes>"
      ]
     },
     "metadata": {
      "needs_background": "light"
     },
     "output_type": "display_data"
    }
   ],
   "source": [
    "sns.catplot(x=\"passenger_count\", y=\"fare_amount\", data=df,kind=\"bar\").set(title=\"Valor médio pago pela corrida de acordo com a quantidade de passageiros\");"
   ]
  },
  {
   "cell_type": "markdown",
   "metadata": {
    "id": "gWvCiGhr6Skm"
   },
   "source": [
    "### Correlação"
   ]
  },
  {
   "cell_type": "markdown",
   "metadata": {
    "id": "3SEf9jLx6Skn"
   },
   "source": [
    "### Regressão Linear Simples"
   ]
  },
  {
   "cell_type": "code",
   "execution_count": 46,
   "metadata": {
    "id": "UWnUBB8Q6Skn"
   },
   "outputs": [],
   "source": [
    "# import da regressão linear\n",
    "from sklearn.linear_model import LinearRegression"
   ]
  },
  {
   "cell_type": "code",
   "execution_count": 47,
   "metadata": {
    "colab": {
     "base_uri": "https://localhost:8080/",
     "height": 459
    },
    "executionInfo": {
     "elapsed": 3854,
     "status": "ok",
     "timestamp": 1659325272029,
     "user": {
      "displayName": "Vivian Yamassaki",
      "userId": "04328423261350970754"
     },
     "user_tz": 180
    },
    "id": "iIZd4emh6Skn",
    "outputId": "18e464a8-642f-4d5a-ad50-da9035b81387"
   },
   "outputs": [
    {
     "data": {
      "image/png": "[encoded data removed]",
      "text/plain": [
       "<Figure size 432x288 with 1 Axes>"
      ]
     },
     "metadata": {
      "needs_background": "light"
     },
     "output_type": "display_data"
    }
   ],
   "source": [
    "# Fazer um scatterplot com a feature que escolhemos\n",
    "# TODO\n",
    "\n",
    "grafico = sns.regplot(x=df['abs_diff_longitude'], y=df['fare_amount']).set_title(\"Diferença absoluta da longitude x Valor pago na corrida\");"
   ]
  },
  {
   "cell_type": "code",
   "execution_count": 48,
   "metadata": {
    "colab": {
     "base_uri": "https://localhost:8080/"
    },
    "executionInfo": {
     "elapsed": 8,
     "status": "ok",
     "timestamp": 1659325272029,
     "user": {
      "displayName": "Vivian Yamassaki",
      "userId": "04328423261350970754"
     },
     "user_tz": 180
    },
    "id": "IJ7bxE-T6Skn",
    "outputId": "4ab8db2b-c985-4c57-972c-4dc947206ce9"
   },
   "outputs": [
    {
     "name": "stdout",
     "output_type": "stream",
     "text": [
      "PearsonR Correlation Coefficient 0.825\n"
     ]
    }
   ],
   "source": [
    "# Ver a correlação entre o target e a feature\n",
    "\n",
    "from scipy.stats.stats import pearsonr\n",
    "\n",
    "target = df['abs_diff_longitude']\n",
    "feature = df['fare_amount']\n",
    "\n",
    "coeficiente_pearsonr, p_valor = pearsonr(target, feature)\n",
    "print('PearsonR Correlation Coefficient {:0.3}'.format(coeficiente_pearsonr))"
   ]
  },
  {
   "cell_type": "code",
   "execution_count": 49,
   "metadata": {},
   "outputs": [
    {
     "data": {
      "text/html": [
       "<div>\n",
       "<style scoped>\n",
       "    .dataframe tbody tr th:only-of-type {\n",
       "        vertical-align: middle;\n",
       "    }\n",
       "\n",
       "    .dataframe tbody tr th {\n",
       "        vertical-align: top;\n",
       "    }\n",
       "\n",
       "    .dataframe thead th {\n",
       "        text-align: right;\n",
       "    }\n",
       "</style>\n",
       "<table border=\"1\" class=\"dataframe\">\n",
       "  <thead>\n",
       "    <tr style=\"text-align: right;\">\n",
       "      <th></th>\n",
       "      <th>abs_diff_longitude</th>\n",
       "      <th>fare_amount</th>\n",
       "    </tr>\n",
       "  </thead>\n",
       "  <tbody>\n",
       "    <tr>\n",
       "      <th>abs_diff_longitude</th>\n",
       "      <td>1.000000</td>\n",
       "      <td>0.825056</td>\n",
       "    </tr>\n",
       "    <tr>\n",
       "      <th>fare_amount</th>\n",
       "      <td>0.825056</td>\n",
       "      <td>1.000000</td>\n",
       "    </tr>\n",
       "  </tbody>\n",
       "</table>\n",
       "</div>"
      ],
      "text/plain": [
       "                    abs_diff_longitude  fare_amount\n",
       "abs_diff_longitude            1.000000     0.825056\n",
       "fare_amount                   0.825056     1.000000"
      ]
     },
     "execution_count": 49,
     "metadata": {},
     "output_type": "execute_result"
    }
   ],
   "source": [
    "#Pearson com Pandas\n",
    "\n",
    "X = df[['abs_diff_longitude', 'fare_amount']]\n",
    "\n",
    "corr = X.corr()\n",
    "corr"
   ]
  },
  {
   "cell_type": "markdown",
   "metadata": {
    "id": "cA1jwxnw6Sko"
   },
   "source": [
    "#### Separação do conjunto de treino e teste"
   ]
  },
  {
   "cell_type": "code",
   "execution_count": 50,
   "metadata": {},
   "outputs": [],
   "source": [
    "# Colocar o nosso target na variável Y\n",
    "# Colocar o restante das features na variável X\n",
    "\n",
    "Y = df['fare_amount']\n",
    "del df['fare_amount']\n",
    "X = df"
   ]
  },
  {
   "cell_type": "code",
   "execution_count": 51,
   "metadata": {
    "id": "zM4rr1Z86Sko"
   },
   "outputs": [],
   "source": [
    "# Separar nosso conjunto de dados entre treino e teste\n",
    "X_train, X_test, Y_train, Y_test = train_test_split(X, Y, test_size = 0.30, random_state = 42)"
   ]
  },
  {
   "cell_type": "code",
   "execution_count": 52,
   "metadata": {},
   "outputs": [
    {
     "name": "stdout",
     "output_type": "stream",
     "text": [
      "(614891, 15)\n"
     ]
    },
    {
     "data": {
      "text/html": [
       "<div>\n",
       "<style scoped>\n",
       "    .dataframe tbody tr th:only-of-type {\n",
       "        vertical-align: middle;\n",
       "    }\n",
       "\n",
       "    .dataframe tbody tr th {\n",
       "        vertical-align: top;\n",
       "    }\n",
       "\n",
       "    .dataframe thead th {\n",
       "        text-align: right;\n",
       "    }\n",
       "</style>\n",
       "<table border=\"1\" class=\"dataframe\">\n",
       "  <thead>\n",
       "    <tr style=\"text-align: right;\">\n",
       "      <th></th>\n",
       "      <th>key</th>\n",
       "      <th>pickup_datetime</th>\n",
       "      <th>pickup_longitude</th>\n",
       "      <th>pickup_latitude</th>\n",
       "      <th>dropoff_longitude</th>\n",
       "      <th>dropoff_latitude</th>\n",
       "      <th>passenger_count</th>\n",
       "      <th>pickup_hour</th>\n",
       "      <th>pickup_day_of_week</th>\n",
       "      <th>pickup_day</th>\n",
       "      <th>pickup_month</th>\n",
       "      <th>pickup_year</th>\n",
       "      <th>pickup_day_of_week_name</th>\n",
       "      <th>abs_diff_longitude</th>\n",
       "      <th>abs_diff_latitude</th>\n",
       "    </tr>\n",
       "  </thead>\n",
       "  <tbody>\n",
       "    <tr>\n",
       "      <th>401364</th>\n",
       "      <td>2015-04-01 09:35:10.0000001</td>\n",
       "      <td>2015-04-01 09:35:10</td>\n",
       "      <td>-73.90744</td>\n",
       "      <td>40.753376</td>\n",
       "      <td>-73.930832</td>\n",
       "      <td>40.744534</td>\n",
       "      <td>1</td>\n",
       "      <td>9</td>\n",
       "      <td>2</td>\n",
       "      <td>1</td>\n",
       "      <td>4</td>\n",
       "      <td>2015</td>\n",
       "      <td>Quarta</td>\n",
       "      <td>0.023392</td>\n",
       "      <td>0.008842</td>\n",
       "    </tr>\n",
       "  </tbody>\n",
       "</table>\n",
       "</div>"
      ],
      "text/plain": [
       "                                key     pickup_datetime  pickup_longitude  \\\n",
       "401364  2015-04-01 09:35:10.0000001 2015-04-01 09:35:10         -73.90744   \n",
       "\n",
       "        pickup_latitude  dropoff_longitude  dropoff_latitude  passenger_count  \\\n",
       "401364        40.753376         -73.930832         40.744534                1   \n",
       "\n",
       "        pickup_hour  pickup_day_of_week  pickup_day  pickup_month  \\\n",
       "401364            9                   2           1             4   \n",
       "\n",
       "        pickup_year pickup_day_of_week_name  abs_diff_longitude  \\\n",
       "401364         2015                  Quarta            0.023392   \n",
       "\n",
       "        abs_diff_latitude  \n",
       "401364           0.008842  "
      ]
     },
     "execution_count": 52,
     "metadata": {},
     "output_type": "execute_result"
    }
   ],
   "source": [
    "print(X_train.shape)\n",
    "X_train.head(1)"
   ]
  },
  {
   "cell_type": "code",
   "execution_count": 53,
   "metadata": {},
   "outputs": [
    {
     "name": "stdout",
     "output_type": "stream",
     "text": [
      "(614891,)\n"
     ]
    },
    {
     "data": {
      "text/plain": [
       "401364    8.0\n",
       "Name: fare_amount, dtype: float64"
      ]
     },
     "execution_count": 53,
     "metadata": {},
     "output_type": "execute_result"
    }
   ],
   "source": [
    "print(Y_train.shape)\n",
    "Y_train.head(1)"
   ]
  },
  {
   "cell_type": "code",
   "execution_count": 54,
   "metadata": {},
   "outputs": [
    {
     "name": "stdout",
     "output_type": "stream",
     "text": [
      "(263525, 15)\n"
     ]
    },
    {
     "data": {
      "text/html": [
       "<div>\n",
       "<style scoped>\n",
       "    .dataframe tbody tr th:only-of-type {\n",
       "        vertical-align: middle;\n",
       "    }\n",
       "\n",
       "    .dataframe tbody tr th {\n",
       "        vertical-align: top;\n",
       "    }\n",
       "\n",
       "    .dataframe thead th {\n",
       "        text-align: right;\n",
       "    }\n",
       "</style>\n",
       "<table border=\"1\" class=\"dataframe\">\n",
       "  <thead>\n",
       "    <tr style=\"text-align: right;\">\n",
       "      <th></th>\n",
       "      <th>key</th>\n",
       "      <th>pickup_datetime</th>\n",
       "      <th>pickup_longitude</th>\n",
       "      <th>pickup_latitude</th>\n",
       "      <th>dropoff_longitude</th>\n",
       "      <th>dropoff_latitude</th>\n",
       "      <th>passenger_count</th>\n",
       "      <th>pickup_hour</th>\n",
       "      <th>pickup_day_of_week</th>\n",
       "      <th>pickup_day</th>\n",
       "      <th>pickup_month</th>\n",
       "      <th>pickup_year</th>\n",
       "      <th>pickup_day_of_week_name</th>\n",
       "      <th>abs_diff_longitude</th>\n",
       "      <th>abs_diff_latitude</th>\n",
       "    </tr>\n",
       "  </thead>\n",
       "  <tbody>\n",
       "    <tr>\n",
       "      <th>823733</th>\n",
       "      <td>2011-02-26 20:26:00.000000110</td>\n",
       "      <td>2011-02-26 20:26:00</td>\n",
       "      <td>-73.862735</td>\n",
       "      <td>40.76883</td>\n",
       "      <td>-73.969447</td>\n",
       "      <td>40.797897</td>\n",
       "      <td>1</td>\n",
       "      <td>20</td>\n",
       "      <td>5</td>\n",
       "      <td>26</td>\n",
       "      <td>2</td>\n",
       "      <td>2011</td>\n",
       "      <td>Sábado</td>\n",
       "      <td>0.106712</td>\n",
       "      <td>0.029067</td>\n",
       "    </tr>\n",
       "  </tbody>\n",
       "</table>\n",
       "</div>"
      ],
      "text/plain": [
       "                                  key     pickup_datetime  pickup_longitude  \\\n",
       "823733  2011-02-26 20:26:00.000000110 2011-02-26 20:26:00        -73.862735   \n",
       "\n",
       "        pickup_latitude  dropoff_longitude  dropoff_latitude  passenger_count  \\\n",
       "823733         40.76883         -73.969447         40.797897                1   \n",
       "\n",
       "        pickup_hour  pickup_day_of_week  pickup_day  pickup_month  \\\n",
       "823733           20                   5          26             2   \n",
       "\n",
       "        pickup_year pickup_day_of_week_name  abs_diff_longitude  \\\n",
       "823733         2011                  Sábado            0.106712   \n",
       "\n",
       "        abs_diff_latitude  \n",
       "823733           0.029067  "
      ]
     },
     "execution_count": 54,
     "metadata": {},
     "output_type": "execute_result"
    }
   ],
   "source": [
    "print(X_test.shape)\n",
    "X_test.head(1)"
   ]
  },
  {
   "cell_type": "markdown",
   "metadata": {
    "id": "ispwjnuN6Sko"
   },
   "source": [
    "#### Treinamento do modelo"
   ]
  },
  {
   "cell_type": "code",
   "execution_count": 55,
   "metadata": {
    "colab": {
     "base_uri": "https://localhost:8080/"
    },
    "executionInfo": {
     "elapsed": 7,
     "status": "ok",
     "timestamp": 1659325272030,
     "user": {
      "displayName": "Vivian Yamassaki",
      "userId": "04328423261350970754"
     },
     "user_tz": 180
    },
    "id": "aBmiRHl46Sko",
    "outputId": "89823256-37f5-426c-dbc4-679e4db9e7ba"
   },
   "outputs": [
    {
     "data": {
      "text/plain": [
       "LinearRegression()"
      ]
     },
     "execution_count": 55,
     "metadata": {},
     "output_type": "execute_result"
    }
   ],
   "source": [
    "# instancia a regressão linear\n",
    "lm = LinearRegression()\n",
    "# como vamos utilizar somente uma feature, vamos passar somente ela para treinar o modelo\n",
    "lm.fit(X_train[['abs_diff_longitude']], Y_train)"
   ]
  },
  {
   "cell_type": "markdown",
   "metadata": {
    "id": "V-FPubfX6Skp"
   },
   "source": [
    "#### Predição"
   ]
  },
  {
   "cell_type": "code",
   "execution_count": 56,
   "metadata": {
    "id": "dOTDF38z6Skp"
   },
   "outputs": [],
   "source": [
    "# para fazer a predição também só devemos utilizar a feature fornecida no treinamento\n",
    "Y_pred = lm.predict(X_test[['abs_diff_longitude']])\n",
    "\n",
    "#no predict eu normalmente uso o teste (posso usar o treino para avaliar)"
   ]
  },
  {
   "cell_type": "code",
   "execution_count": 57,
   "metadata": {
    "colab": {
     "base_uri": "https://localhost:8080/",
     "height": 296
    },
    "executionInfo": {
     "elapsed": 41239,
     "status": "ok",
     "timestamp": 1659325313265,
     "user": {
      "displayName": "Vivian Yamassaki",
      "userId": "04328423261350970754"
     },
     "user_tz": 180
    },
    "id": "ZPHG9DIM6Skp",
    "outputId": "c8381312-6607-43bf-ee15-ea9c0dbc0f23"
   },
   "outputs": [
    {
     "data": {
      "image/png": "[encoded data removed]",
      "text/plain": [
       "<Figure size 432x288 with 1 Axes>"
      ]
     },
     "metadata": {
      "needs_background": "light"
     },
     "output_type": "display_data"
    }
   ],
   "source": [
    "_ = sns.regplot(x=Y_test, y=Y_pred).set_title(\"Distribuição do target vs valor predito pelo modelo\");"
   ]
  },
  {
   "cell_type": "code",
   "execution_count": 58,
   "metadata": {
    "id": "vGnnqaob6Skp"
   },
   "outputs": [],
   "source": [
    "# vamos pegar de exemplo para analisar o resultado\n",
    "\n",
    "exemplo = lm.predict(X_test[['abs_diff_longitude']])"
   ]
  },
  {
   "cell_type": "code",
   "execution_count": 59,
   "metadata": {
    "id": "0GCimE-G6Skq"
   },
   "outputs": [
    {
     "name": "stdout",
     "output_type": "stream",
     "text": [
      "[225.37880345]\n",
      "6.081784576615161\n"
     ]
    }
   ],
   "source": [
    "# aqui conseguimos pegar os coeficientes que compõem a equação da regressão linear\n",
    "\n",
    "beta=lm.coef_\n",
    "intercept=lm.intercept_\n",
    "print(beta)\n",
    "print(intercept)"
   ]
  },
  {
   "cell_type": "code",
   "execution_count": 60,
   "metadata": {
    "id": "cKIxRXft6Skq"
   },
   "outputs": [
    {
     "data": {
      "text/plain": [
       "array([261.59299548, 239.95730649, 240.52300728, ..., 238.88720793,\n",
       "       241.0544505 , 237.56220594])"
      ]
     },
     "execution_count": 60,
     "metadata": {},
     "output_type": "execute_result"
    }
   ],
   "source": [
    "# Criar a fórmula da regressão linear\n",
    "\n",
    "(beta[0] + exemplo) + intercept"
   ]
  },
  {
   "cell_type": "code",
   "execution_count": 61,
   "metadata": {
    "id": "azUhRYV46Skr"
   },
   "outputs": [
    {
     "data": {
      "text/plain": [
       "231.48270703082767"
      ]
     },
     "execution_count": 61,
     "metadata": {},
     "output_type": "execute_result"
    }
   ],
   "source": [
    "# Substituir o valor do exemplo na fórmula e verificar se o resultado é o mesmo que o modelo predisse\n",
    "\n",
    "(beta[0] + 0.022119) + intercept"
   ]
  },
  {
   "cell_type": "markdown",
   "metadata": {
    "id": "r2VPxoBY6Skr"
   },
   "source": [
    "## Métricas de avaliação"
   ]
  },
  {
   "cell_type": "markdown",
   "metadata": {
    "id": "LuOh3Kiu6Skr"
   },
   "source": [
    "Existem diversas métricas para avaliar o erro da predição do nosso modelo. Hoje iremos ver as seguintes:\n",
    "- MSE (Mean Squared Error)\n",
    "- MAE (Mean Absolute Error)\n",
    "- R²"
   ]
  },
  {
   "cell_type": "code",
   "execution_count": 73,
   "metadata": {
    "id": "2vTdHKpE6Skr"
   },
   "outputs": [],
   "source": [
    "from sklearn.metrics import mean_squared_error, mean_absolute_error, r2_score"
   ]
  },
  {
   "cell_type": "markdown",
   "metadata": {
    "id": "T9K_Q07Q6Sks"
   },
   "source": [
    "**`MSE`**"
   ]
  },
  {
   "cell_type": "code",
   "execution_count": 74,
   "metadata": {
    "id": "VMR_tXUa6Sks"
   },
   "outputs": [
    {
     "data": {
      "text/plain": [
       "24.69710970369658"
      ]
     },
     "execution_count": 74,
     "metadata": {},
     "output_type": "execute_result"
    }
   ],
   "source": [
    "# Calcular o MSE\n",
    "\n",
    "mse = mean_squared_error(Y_test, Y_pred)\n",
    "mse"
   ]
  },
  {
   "cell_type": "markdown",
   "metadata": {
    "id": "byVP-c-w6Sks"
   },
   "source": [
    "**`MAE`**"
   ]
  },
  {
   "cell_type": "code",
   "execution_count": 75,
   "metadata": {
    "id": "TWT0zo-Y6Sks"
   },
   "outputs": [
    {
     "data": {
      "text/plain": [
       "3.187726331050997"
      ]
     },
     "execution_count": 75,
     "metadata": {},
     "output_type": "execute_result"
    }
   ],
   "source": [
    "# Calcular o MAE\n",
    "\n",
    "mae = mean_absolute_error(Y_test, Y_pred)\n",
    "mae"
   ]
  },
  {
   "cell_type": "markdown",
   "metadata": {
    "id": "tkNUrR3Q6Sks"
   },
   "source": [
    "**`R²`**"
   ]
  },
  {
   "cell_type": "code",
   "execution_count": 76,
   "metadata": {
    "id": "t9CGTy5v6Skt"
   },
   "outputs": [
    {
     "data": {
      "text/plain": [
       "0.6810560930980911"
      ]
     },
     "execution_count": 76,
     "metadata": {},
     "output_type": "execute_result"
    }
   ],
   "source": [
    "# Calcular o R2\n",
    "\n",
    "r2_score(Y_test, Y_pred)"
   ]
  },
  {
   "cell_type": "markdown",
   "metadata": {
    "id": "KCv86biu6Skv"
   },
   "source": [
    "## Regressão Linear Múltipla"
   ]
  },
  {
   "cell_type": "code",
   "execution_count": 77,
   "metadata": {
    "id": "IJcmgYhj6Skv"
   },
   "outputs": [],
   "source": [
    "# Colocar todas as features que iremos utilizar em um array\n",
    "\n",
    "columns = ['pickup_longitude','pickup_latitude', 'dropoff_longitude', 'dropoff_latitude',\n",
    "           'passenger_count', 'pickup_hour', 'pickup_day_of_week', 'pickup_day',\n",
    "           'pickup_month', 'pickup_year', 'abs_diff_longitude', 'abs_diff_latitude']"
   ]
  },
  {
   "cell_type": "code",
   "execution_count": 78,
   "metadata": {},
   "outputs": [
    {
     "data": {
      "text/plain": [
       "LinearRegression()"
      ]
     },
     "execution_count": 78,
     "metadata": {},
     "output_type": "execute_result"
    }
   ],
   "source": [
    "lm.fit(X_train[columns], Y_train)"
   ]
  },
  {
   "cell_type": "code",
   "execution_count": 79,
   "metadata": {},
   "outputs": [],
   "source": [
    "Y_pred = lm.predict(X_test[columns])"
   ]
  },
  {
   "cell_type": "code",
   "execution_count": 80,
   "metadata": {
    "id": "nbqgBbPO6Skv"
   },
   "outputs": [
    {
     "name": "stdout",
     "output_type": "stream",
     "text": [
      "[ 1.49637825e+01  2.73799571e+00  7.60703102e+00 -1.84254424e+01\n",
      "  1.16782653e-01  1.12910876e-02 -3.34790721e-02  1.12680885e-03\n",
      "  6.69584128e-02  4.91295570e-01  1.60929729e+02  1.37055478e+02]\n",
      "1324.6273746789102\n"
     ]
    }
   ],
   "source": [
    "# Ver os coeficientes\n",
    "\n",
    "beta=lm.coef_\n",
    "intercept=lm.intercept_\n",
    "print(beta)\n",
    "print(intercept)"
   ]
  },
  {
   "cell_type": "code",
   "execution_count": 81,
   "metadata": {
    "colab": {
     "base_uri": "https://localhost:8080/",
     "height": 425
    },
    "executionInfo": {
     "elapsed": 6,
     "status": "ok",
     "timestamp": 1659325313890,
     "user": {
      "displayName": "Vivian Yamassaki",
      "userId": "04328423261350970754"
     },
     "user_tz": 180
    },
    "id": "xB_rCUOO6Skw",
    "outputId": "afa88dea-10ea-4137-8362-16a269c75bef"
   },
   "outputs": [
    {
     "data": {
      "text/html": [
       "<div>\n",
       "<style scoped>\n",
       "    .dataframe tbody tr th:only-of-type {\n",
       "        vertical-align: middle;\n",
       "    }\n",
       "\n",
       "    .dataframe tbody tr th {\n",
       "        vertical-align: top;\n",
       "    }\n",
       "\n",
       "    .dataframe thead th {\n",
       "        text-align: right;\n",
       "    }\n",
       "</style>\n",
       "<table border=\"1\" class=\"dataframe\">\n",
       "  <thead>\n",
       "    <tr style=\"text-align: right;\">\n",
       "      <th></th>\n",
       "      <th>names</th>\n",
       "      <th>coefs</th>\n",
       "    </tr>\n",
       "  </thead>\n",
       "  <tbody>\n",
       "    <tr>\n",
       "      <th>0</th>\n",
       "      <td>pickup_longitude</td>\n",
       "      <td>14.963782</td>\n",
       "    </tr>\n",
       "    <tr>\n",
       "      <th>1</th>\n",
       "      <td>pickup_latitude</td>\n",
       "      <td>2.737996</td>\n",
       "    </tr>\n",
       "    <tr>\n",
       "      <th>2</th>\n",
       "      <td>dropoff_longitude</td>\n",
       "      <td>7.607031</td>\n",
       "    </tr>\n",
       "    <tr>\n",
       "      <th>3</th>\n",
       "      <td>dropoff_latitude</td>\n",
       "      <td>-18.425442</td>\n",
       "    </tr>\n",
       "    <tr>\n",
       "      <th>4</th>\n",
       "      <td>passenger_count</td>\n",
       "      <td>0.116783</td>\n",
       "    </tr>\n",
       "    <tr>\n",
       "      <th>5</th>\n",
       "      <td>pickup_hour</td>\n",
       "      <td>0.011291</td>\n",
       "    </tr>\n",
       "    <tr>\n",
       "      <th>6</th>\n",
       "      <td>pickup_day_of_week</td>\n",
       "      <td>-0.033479</td>\n",
       "    </tr>\n",
       "    <tr>\n",
       "      <th>7</th>\n",
       "      <td>pickup_day</td>\n",
       "      <td>0.001127</td>\n",
       "    </tr>\n",
       "    <tr>\n",
       "      <th>8</th>\n",
       "      <td>pickup_month</td>\n",
       "      <td>0.066958</td>\n",
       "    </tr>\n",
       "    <tr>\n",
       "      <th>9</th>\n",
       "      <td>pickup_year</td>\n",
       "      <td>0.491296</td>\n",
       "    </tr>\n",
       "    <tr>\n",
       "      <th>10</th>\n",
       "      <td>abs_diff_longitude</td>\n",
       "      <td>160.929729</td>\n",
       "    </tr>\n",
       "    <tr>\n",
       "      <th>11</th>\n",
       "      <td>abs_diff_latitude</td>\n",
       "      <td>137.055478</td>\n",
       "    </tr>\n",
       "  </tbody>\n",
       "</table>\n",
       "</div>"
      ],
      "text/plain": [
       "                 names       coefs\n",
       "0     pickup_longitude   14.963782\n",
       "1      pickup_latitude    2.737996\n",
       "2    dropoff_longitude    7.607031\n",
       "3     dropoff_latitude  -18.425442\n",
       "4      passenger_count    0.116783\n",
       "5          pickup_hour    0.011291\n",
       "6   pickup_day_of_week   -0.033479\n",
       "7           pickup_day    0.001127\n",
       "8         pickup_month    0.066958\n",
       "9          pickup_year    0.491296\n",
       "10  abs_diff_longitude  160.929729\n",
       "11   abs_diff_latitude  137.055478"
      ]
     },
     "execution_count": 81,
     "metadata": {},
     "output_type": "execute_result"
    }
   ],
   "source": [
    "weights = pd.DataFrame(list(zip(columns, lm.coef_.tolist())),columns=['names', 'coefs'])\n",
    "weights"
   ]
  },
  {
   "cell_type": "code",
   "execution_count": 82,
   "metadata": {
    "colab": {
     "base_uri": "https://localhost:8080/",
     "height": 387
    },
    "executionInfo": {
     "elapsed": 5,
     "status": "ok",
     "timestamp": 1659325313890,
     "user": {
      "displayName": "Vivian Yamassaki",
      "userId": "04328423261350970754"
     },
     "user_tz": 180
    },
    "id": "PDiRNXA26Skw",
    "outputId": "0984625b-aa0c-47e4-88d7-82a07ed3e2df"
   },
   "outputs": [
    {
     "data": {
      "text/plain": [
       "(array([ 0,  1,  2,  3,  4,  5,  6,  7,  8,  9, 10, 11]),\n",
       " [Text(0, 0, 'pickup_longitude'),\n",
       "  Text(1, 0, 'pickup_latitude'),\n",
       "  Text(2, 0, 'dropoff_longitude'),\n",
       "  Text(3, 0, 'dropoff_latitude'),\n",
       "  Text(4, 0, 'passenger_count'),\n",
       "  Text(5, 0, 'pickup_hour'),\n",
       "  Text(6, 0, 'pickup_day_of_week'),\n",
       "  Text(7, 0, 'pickup_day'),\n",
       "  Text(8, 0, 'pickup_month'),\n",
       "  Text(9, 0, 'pickup_year'),\n",
       "  Text(10, 0, 'abs_diff_longitude'),\n",
       "  Text(11, 0, 'abs_diff_latitude')])"
      ]
     },
     "execution_count": 82,
     "metadata": {},
     "output_type": "execute_result"
    },
    {
     "data": {
      "image/png": "[encoded data removed]",
      "text/plain": [
       "<Figure size 432x288 with 1 Axes>"
      ]
     },
     "metadata": {
      "needs_background": "light"
     },
     "output_type": "display_data"
    }
   ],
   "source": [
    "# Usar um barplot para visualizar esses coeficientes por feature\n",
    "\n",
    "sns.barplot(x=\"names\", y=\"coefs\", data=weights).set_title(\"Coeficiente das variáveis presentes no modelo\")\n",
    "sns.set(rc={'figure.figsize':(12,8)})\n",
    "plt.xticks(rotation = 90)"
   ]
  },
  {
   "cell_type": "markdown",
   "metadata": {
    "colab": {
     "base_uri": "https://localhost:8080/"
    },
    "executionInfo": {
     "elapsed": 493,
     "status": "ok",
     "timestamp": 1659325314378,
     "user": {
      "displayName": "Vivian Yamassaki",
      "userId": "04328423261350970754"
     },
     "user_tz": 180
    },
    "id": "AByDD3_s6Skx",
    "outputId": "5f4e7df4-3d52-4b0c-fa5b-b2e424e7f667"
   },
   "source": [
    "**Treinar o modelo novamente só removendo as features correlacionadas; fazer a predição no conjunto de teste; verificar os erros.**"
   ]
  },
  {
   "cell_type": "code",
   "execution_count": 84,
   "metadata": {},
   "outputs": [
    {
     "data": {
      "text/plain": [
       "LinearRegression()"
      ]
     },
     "execution_count": 84,
     "metadata": {},
     "output_type": "execute_result"
    }
   ],
   "source": [
    "lm.fit(X_train[['passenger_count', 'pickup_hour', 'pickup_day_of_week', 'pickup_day',\n",
    "       'pickup_month', 'pickup_year','abs_diff_longitude', 'abs_diff_latitude']], Y_train)"
   ]
  },
  {
   "cell_type": "code",
   "execution_count": 85,
   "metadata": {},
   "outputs": [],
   "source": [
    "Y_pred = lm.predict(X_test[['passenger_count', 'pickup_hour', 'pickup_day_of_week', 'pickup_day',\n",
    "       'pickup_month', 'pickup_year','abs_diff_longitude', 'abs_diff_latitude']])"
   ]
  },
  {
   "cell_type": "code",
   "execution_count": 86,
   "metadata": {},
   "outputs": [
    {
     "data": {
      "text/plain": [
       "2.366005139311909"
      ]
     },
     "execution_count": 86,
     "metadata": {},
     "output_type": "execute_result"
    }
   ],
   "source": [
    "mae = mean_absolute_error(Y_test, Y_pred)\n",
    "mae"
   ]
  },
  {
   "cell_type": "code",
   "execution_count": 87,
   "metadata": {},
   "outputs": [
    {
     "data": {
      "text/plain": [
       "0.7738888492753324"
      ]
     },
     "execution_count": 87,
     "metadata": {},
     "output_type": "execute_result"
    }
   ],
   "source": [
    "r2_score(Y_test, Y_pred)"
   ]
  }
 ],
 "metadata": {
  "colab": {
   "collapsed_sections": [],
   "name": "Cópia de linear_regression_gabarito.ipynb",
   "provenance": []
  },
  "kernelspec": {
   "display_name": "Python 3",
   "language": "python",
   "name": "python3"
  },
  "language_info": {
   "codemirror_mode": {
    "name": "ipython",
    "version": 3
   },
   "file_extension": ".py",
   "mimetype": "text/x-python",
   "name": "python",
   "nbconvert_exporter": "python",
   "pygments_lexer": "ipython3",
   "version": "3.8.8"
  }
 },
 "nbformat": 4,
 "nbformat_minor": 1
}
