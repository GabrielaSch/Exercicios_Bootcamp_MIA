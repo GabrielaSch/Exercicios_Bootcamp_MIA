{
 "cells": [
  {
   "cell_type": "code",
   "execution_count": 1,
   "id": "d0440685",
   "metadata": {},
   "outputs": [],
   "source": [
    "import pandas as pd\n",
    "import matplotlib.pyplot as plt\n",
    "from sklearn.model_selection import train_test_split\n",
    "import seaborn as sns\n",
    "import numpy as np"
   ]
  },
  {
   "cell_type": "code",
   "execution_count": 2,
   "id": "ef938c99",
   "metadata": {},
   "outputs": [],
   "source": [
    "df = pd.read_csv(\"data\\dataset.csv\")"
   ]
  },
  {
   "cell_type": "code",
   "execution_count": 3,
   "id": "69509dfe",
   "metadata": {},
   "outputs": [],
   "source": [
    "df = df.loc[(df.fare_amount >= 1) & (df.fare_amount <= 100)]"
   ]
  },
  {
   "cell_type": "code",
   "execution_count": 4,
   "id": "a1a60781",
   "metadata": {},
   "outputs": [
    {
     "name": "stdout",
     "output_type": "stream",
     "text": [
      "<class 'pandas.core.frame.DataFrame'>\n",
      "Int64Index: 999529 entries, 0 to 999999\n",
      "Data columns (total 8 columns):\n",
      " #   Column             Non-Null Count   Dtype         \n",
      "---  ------             --------------   -----         \n",
      " 0   key                999529 non-null  object        \n",
      " 1   fare_amount        999529 non-null  float64       \n",
      " 2   pickup_datetime    999529 non-null  datetime64[ns]\n",
      " 3   pickup_longitude   999529 non-null  float64       \n",
      " 4   pickup_latitude    999529 non-null  float64       \n",
      " 5   dropoff_longitude  999519 non-null  float64       \n",
      " 6   dropoff_latitude   999519 non-null  float64       \n",
      " 7   passenger_count    999529 non-null  int64         \n",
      "dtypes: datetime64[ns](1), float64(5), int64(1), object(1)\n",
      "memory usage: 68.6+ MB\n"
     ]
    }
   ],
   "source": [
    "df['pickup_datetime'] = pd.to_datetime(df['pickup_datetime'],format='%Y-%m-%d %H:%M:%S UTC') \n",
    "df.info()"
   ]
  },
  {
   "cell_type": "code",
   "execution_count": 5,
   "id": "0a15da24",
   "metadata": {},
   "outputs": [],
   "source": [
    "# horário\n",
    "df['pickup_hour']=df['pickup_datetime'].apply(lambda x:x.hour)\n",
    "# dia da semana (0 é segunda e 6 é domingo)\n",
    "df['pickup_day_of_week']=df['pickup_datetime'].apply(lambda x:x.weekday())\n",
    "# dia\n",
    "df['pickup_day']=df['pickup_datetime'].apply(lambda x:x.day)\n",
    "# mês\n",
    "df['pickup_month']=df['pickup_datetime'].apply(lambda x:x.month)\n",
    "# ano\n",
    "df['pickup_year']=df['pickup_datetime'].apply(lambda x:x.year)"
   ]
  },
  {
   "cell_type": "code",
   "execution_count": 6,
   "id": "f54d0a92",
   "metadata": {},
   "outputs": [],
   "source": [
    "df = df.loc[(df.pickup_latitude>=40.63) & (df.pickup_latitude<=40.88)]\n",
    "df = df.loc[(df.pickup_longitude>=-74.04) & (df.pickup_longitude<=-73.75)]\n",
    "df = df.loc[(df.dropoff_latitude>=40.63) & (df.dropoff_latitude<=40.88)]\n",
    "df = df.loc[(df.dropoff_longitude>=-74.04) & (df.dropoff_longitude<=-73.75)]"
   ]
  },
  {
   "cell_type": "code",
   "execution_count": 7,
   "id": "23eb8f15",
   "metadata": {},
   "outputs": [],
   "source": [
    "df['abs_diff_longitude'] = (df.dropoff_longitude - df.pickup_longitude).abs()\n",
    "df['abs_diff_latitude'] = (df.dropoff_latitude - df.pickup_latitude).abs()"
   ]
  },
  {
   "cell_type": "code",
   "execution_count": 8,
   "id": "6b253658",
   "metadata": {},
   "outputs": [],
   "source": [
    "df = df.loc[(df.passenger_count > 0) & (df.passenger_count<5)]"
   ]
  },
  {
   "cell_type": "markdown",
   "id": "5a844376",
   "metadata": {},
   "source": [
    "**Calcular o MAE e o R2 se fizéssemos a predição dizendo que a tarifa seria igual a mediana para todos os exemplos**"
   ]
  },
  {
   "cell_type": "code",
   "execution_count": 9,
   "id": "a333ad8b",
   "metadata": {},
   "outputs": [],
   "source": [
    "from sklearn.linear_model import LinearRegression"
   ]
  },
  {
   "cell_type": "code",
   "execution_count": 10,
   "id": "8b2cf4cd",
   "metadata": {},
   "outputs": [
    {
     "data": {
      "text/html": [
       "<div>\n",
       "<style scoped>\n",
       "    .dataframe tbody tr th:only-of-type {\n",
       "        vertical-align: middle;\n",
       "    }\n",
       "\n",
       "    .dataframe tbody tr th {\n",
       "        vertical-align: top;\n",
       "    }\n",
       "\n",
       "    .dataframe thead th {\n",
       "        text-align: right;\n",
       "    }\n",
       "</style>\n",
       "<table border=\"1\" class=\"dataframe\">\n",
       "  <thead>\n",
       "    <tr style=\"text-align: right;\">\n",
       "      <th></th>\n",
       "      <th>key</th>\n",
       "      <th>fare_amount</th>\n",
       "      <th>pickup_datetime</th>\n",
       "      <th>pickup_longitude</th>\n",
       "      <th>pickup_latitude</th>\n",
       "      <th>dropoff_longitude</th>\n",
       "      <th>dropoff_latitude</th>\n",
       "      <th>passenger_count</th>\n",
       "      <th>pickup_hour</th>\n",
       "      <th>pickup_day_of_week</th>\n",
       "      <th>pickup_day</th>\n",
       "      <th>pickup_month</th>\n",
       "      <th>pickup_year</th>\n",
       "      <th>abs_diff_longitude</th>\n",
       "      <th>abs_diff_latitude</th>\n",
       "      <th>fare_amount_median</th>\n",
       "    </tr>\n",
       "  </thead>\n",
       "  <tbody>\n",
       "    <tr>\n",
       "      <th>0</th>\n",
       "      <td>2009-06-15 17:26:21.0000001</td>\n",
       "      <td>4.5</td>\n",
       "      <td>2009-06-15 17:26:21</td>\n",
       "      <td>-73.844311</td>\n",
       "      <td>40.721319</td>\n",
       "      <td>-73.841610</td>\n",
       "      <td>40.712278</td>\n",
       "      <td>1</td>\n",
       "      <td>17</td>\n",
       "      <td>0</td>\n",
       "      <td>15</td>\n",
       "      <td>6</td>\n",
       "      <td>2009</td>\n",
       "      <td>0.002701</td>\n",
       "      <td>0.009041</td>\n",
       "      <td>8.5</td>\n",
       "    </tr>\n",
       "    <tr>\n",
       "      <th>1</th>\n",
       "      <td>2010-01-05 16:52:16.0000002</td>\n",
       "      <td>16.9</td>\n",
       "      <td>2010-01-05 16:52:16</td>\n",
       "      <td>-74.016048</td>\n",
       "      <td>40.711303</td>\n",
       "      <td>-73.979268</td>\n",
       "      <td>40.782004</td>\n",
       "      <td>1</td>\n",
       "      <td>16</td>\n",
       "      <td>1</td>\n",
       "      <td>5</td>\n",
       "      <td>1</td>\n",
       "      <td>2010</td>\n",
       "      <td>0.036780</td>\n",
       "      <td>0.070701</td>\n",
       "      <td>8.5</td>\n",
       "    </tr>\n",
       "    <tr>\n",
       "      <th>2</th>\n",
       "      <td>2011-08-18 00:35:00.00000049</td>\n",
       "      <td>5.7</td>\n",
       "      <td>2011-08-18 00:35:00</td>\n",
       "      <td>-73.982738</td>\n",
       "      <td>40.761270</td>\n",
       "      <td>-73.991242</td>\n",
       "      <td>40.750562</td>\n",
       "      <td>2</td>\n",
       "      <td>0</td>\n",
       "      <td>3</td>\n",
       "      <td>18</td>\n",
       "      <td>8</td>\n",
       "      <td>2011</td>\n",
       "      <td>0.008504</td>\n",
       "      <td>0.010708</td>\n",
       "      <td>8.5</td>\n",
       "    </tr>\n",
       "    <tr>\n",
       "      <th>3</th>\n",
       "      <td>2012-04-21 04:30:42.0000001</td>\n",
       "      <td>7.7</td>\n",
       "      <td>2012-04-21 04:30:42</td>\n",
       "      <td>-73.987130</td>\n",
       "      <td>40.733143</td>\n",
       "      <td>-73.991567</td>\n",
       "      <td>40.758092</td>\n",
       "      <td>1</td>\n",
       "      <td>4</td>\n",
       "      <td>5</td>\n",
       "      <td>21</td>\n",
       "      <td>4</td>\n",
       "      <td>2012</td>\n",
       "      <td>0.004437</td>\n",
       "      <td>0.024949</td>\n",
       "      <td>8.5</td>\n",
       "    </tr>\n",
       "    <tr>\n",
       "      <th>4</th>\n",
       "      <td>2010-03-09 07:51:00.000000135</td>\n",
       "      <td>5.3</td>\n",
       "      <td>2010-03-09 07:51:00</td>\n",
       "      <td>-73.968095</td>\n",
       "      <td>40.768008</td>\n",
       "      <td>-73.956655</td>\n",
       "      <td>40.783762</td>\n",
       "      <td>1</td>\n",
       "      <td>7</td>\n",
       "      <td>1</td>\n",
       "      <td>9</td>\n",
       "      <td>3</td>\n",
       "      <td>2010</td>\n",
       "      <td>0.011440</td>\n",
       "      <td>0.015754</td>\n",
       "      <td>8.5</td>\n",
       "    </tr>\n",
       "    <tr>\n",
       "      <th>...</th>\n",
       "      <td>...</td>\n",
       "      <td>...</td>\n",
       "      <td>...</td>\n",
       "      <td>...</td>\n",
       "      <td>...</td>\n",
       "      <td>...</td>\n",
       "      <td>...</td>\n",
       "      <td>...</td>\n",
       "      <td>...</td>\n",
       "      <td>...</td>\n",
       "      <td>...</td>\n",
       "      <td>...</td>\n",
       "      <td>...</td>\n",
       "      <td>...</td>\n",
       "      <td>...</td>\n",
       "      <td>...</td>\n",
       "    </tr>\n",
       "    <tr>\n",
       "      <th>999994</th>\n",
       "      <td>2014-06-29 22:57:55.0000001</td>\n",
       "      <td>20.0</td>\n",
       "      <td>2014-06-29 22:57:55</td>\n",
       "      <td>-73.872919</td>\n",
       "      <td>40.774106</td>\n",
       "      <td>-73.796524</td>\n",
       "      <td>40.775041</td>\n",
       "      <td>2</td>\n",
       "      <td>22</td>\n",
       "      <td>6</td>\n",
       "      <td>29</td>\n",
       "      <td>6</td>\n",
       "      <td>2014</td>\n",
       "      <td>0.076395</td>\n",
       "      <td>0.000935</td>\n",
       "      <td>8.5</td>\n",
       "    </tr>\n",
       "    <tr>\n",
       "      <th>999995</th>\n",
       "      <td>2014-09-13 21:44:38.0000001</td>\n",
       "      <td>7.0</td>\n",
       "      <td>2014-09-13 21:44:38</td>\n",
       "      <td>-73.976676</td>\n",
       "      <td>40.785630</td>\n",
       "      <td>-73.959196</td>\n",
       "      <td>40.775114</td>\n",
       "      <td>1</td>\n",
       "      <td>21</td>\n",
       "      <td>5</td>\n",
       "      <td>13</td>\n",
       "      <td>9</td>\n",
       "      <td>2014</td>\n",
       "      <td>0.017480</td>\n",
       "      <td>0.010516</td>\n",
       "      <td>8.5</td>\n",
       "    </tr>\n",
       "    <tr>\n",
       "      <th>999996</th>\n",
       "      <td>2010-09-20 14:50:37.0000002</td>\n",
       "      <td>7.3</td>\n",
       "      <td>2010-09-20 14:50:37</td>\n",
       "      <td>-73.992103</td>\n",
       "      <td>40.671385</td>\n",
       "      <td>-73.992103</td>\n",
       "      <td>40.671385</td>\n",
       "      <td>2</td>\n",
       "      <td>14</td>\n",
       "      <td>0</td>\n",
       "      <td>20</td>\n",
       "      <td>9</td>\n",
       "      <td>2010</td>\n",
       "      <td>0.000000</td>\n",
       "      <td>0.000000</td>\n",
       "      <td>8.5</td>\n",
       "    </tr>\n",
       "    <tr>\n",
       "      <th>999998</th>\n",
       "      <td>2011-07-08 00:29:00.00000099</td>\n",
       "      <td>6.9</td>\n",
       "      <td>2011-07-08 00:29:00</td>\n",
       "      <td>-73.980317</td>\n",
       "      <td>40.759482</td>\n",
       "      <td>-73.976832</td>\n",
       "      <td>40.743122</td>\n",
       "      <td>1</td>\n",
       "      <td>0</td>\n",
       "      <td>4</td>\n",
       "      <td>8</td>\n",
       "      <td>7</td>\n",
       "      <td>2011</td>\n",
       "      <td>0.003485</td>\n",
       "      <td>0.016360</td>\n",
       "      <td>8.5</td>\n",
       "    </tr>\n",
       "    <tr>\n",
       "      <th>999999</th>\n",
       "      <td>2009-12-31 14:30:00.00000021</td>\n",
       "      <td>4.1</td>\n",
       "      <td>2009-12-31 14:30:00</td>\n",
       "      <td>-74.006635</td>\n",
       "      <td>40.741598</td>\n",
       "      <td>-73.999450</td>\n",
       "      <td>40.745702</td>\n",
       "      <td>1</td>\n",
       "      <td>14</td>\n",
       "      <td>3</td>\n",
       "      <td>31</td>\n",
       "      <td>12</td>\n",
       "      <td>2009</td>\n",
       "      <td>0.007185</td>\n",
       "      <td>0.004104</td>\n",
       "      <td>8.5</td>\n",
       "    </tr>\n",
       "  </tbody>\n",
       "</table>\n",
       "<p>878416 rows × 16 columns</p>\n",
       "</div>"
      ],
      "text/plain": [
       "                                  key  fare_amount     pickup_datetime  \\\n",
       "0         2009-06-15 17:26:21.0000001          4.5 2009-06-15 17:26:21   \n",
       "1         2010-01-05 16:52:16.0000002         16.9 2010-01-05 16:52:16   \n",
       "2        2011-08-18 00:35:00.00000049          5.7 2011-08-18 00:35:00   \n",
       "3         2012-04-21 04:30:42.0000001          7.7 2012-04-21 04:30:42   \n",
       "4       2010-03-09 07:51:00.000000135          5.3 2010-03-09 07:51:00   \n",
       "...                               ...          ...                 ...   \n",
       "999994    2014-06-29 22:57:55.0000001         20.0 2014-06-29 22:57:55   \n",
       "999995    2014-09-13 21:44:38.0000001          7.0 2014-09-13 21:44:38   \n",
       "999996    2010-09-20 14:50:37.0000002          7.3 2010-09-20 14:50:37   \n",
       "999998   2011-07-08 00:29:00.00000099          6.9 2011-07-08 00:29:00   \n",
       "999999   2009-12-31 14:30:00.00000021          4.1 2009-12-31 14:30:00   \n",
       "\n",
       "        pickup_longitude  pickup_latitude  dropoff_longitude  \\\n",
       "0             -73.844311        40.721319         -73.841610   \n",
       "1             -74.016048        40.711303         -73.979268   \n",
       "2             -73.982738        40.761270         -73.991242   \n",
       "3             -73.987130        40.733143         -73.991567   \n",
       "4             -73.968095        40.768008         -73.956655   \n",
       "...                  ...              ...                ...   \n",
       "999994        -73.872919        40.774106         -73.796524   \n",
       "999995        -73.976676        40.785630         -73.959196   \n",
       "999996        -73.992103        40.671385         -73.992103   \n",
       "999998        -73.980317        40.759482         -73.976832   \n",
       "999999        -74.006635        40.741598         -73.999450   \n",
       "\n",
       "        dropoff_latitude  passenger_count  pickup_hour  pickup_day_of_week  \\\n",
       "0              40.712278                1           17                   0   \n",
       "1              40.782004                1           16                   1   \n",
       "2              40.750562                2            0                   3   \n",
       "3              40.758092                1            4                   5   \n",
       "4              40.783762                1            7                   1   \n",
       "...                  ...              ...          ...                 ...   \n",
       "999994         40.775041                2           22                   6   \n",
       "999995         40.775114                1           21                   5   \n",
       "999996         40.671385                2           14                   0   \n",
       "999998         40.743122                1            0                   4   \n",
       "999999         40.745702                1           14                   3   \n",
       "\n",
       "        pickup_day  pickup_month  pickup_year  abs_diff_longitude  \\\n",
       "0               15             6         2009            0.002701   \n",
       "1                5             1         2010            0.036780   \n",
       "2               18             8         2011            0.008504   \n",
       "3               21             4         2012            0.004437   \n",
       "4                9             3         2010            0.011440   \n",
       "...            ...           ...          ...                 ...   \n",
       "999994          29             6         2014            0.076395   \n",
       "999995          13             9         2014            0.017480   \n",
       "999996          20             9         2010            0.000000   \n",
       "999998           8             7         2011            0.003485   \n",
       "999999          31            12         2009            0.007185   \n",
       "\n",
       "        abs_diff_latitude  fare_amount_median  \n",
       "0                0.009041                 8.5  \n",
       "1                0.070701                 8.5  \n",
       "2                0.010708                 8.5  \n",
       "3                0.024949                 8.5  \n",
       "4                0.015754                 8.5  \n",
       "...                   ...                 ...  \n",
       "999994           0.000935                 8.5  \n",
       "999995           0.010516                 8.5  \n",
       "999996           0.000000                 8.5  \n",
       "999998           0.016360                 8.5  \n",
       "999999           0.004104                 8.5  \n",
       "\n",
       "[878416 rows x 16 columns]"
      ]
     },
     "execution_count": 10,
     "metadata": {},
     "output_type": "execute_result"
    }
   ],
   "source": [
    "df['fare_amount_median'] = df['fare_amount'].median()\n",
    "df"
   ]
  },
  {
   "cell_type": "code",
   "execution_count": 11,
   "id": "5c921e1c",
   "metadata": {},
   "outputs": [],
   "source": [
    "Y = df['fare_amount_median']\n",
    "del df['fare_amount_median']\n",
    "X = df"
   ]
  },
  {
   "cell_type": "code",
   "execution_count": 12,
   "id": "f7d28d9a",
   "metadata": {},
   "outputs": [],
   "source": [
    "X_train, X_test, Y_train, Y_test = train_test_split(X, Y, test_size = 0.30, random_state = 42)"
   ]
  },
  {
   "cell_type": "code",
   "execution_count": 13,
   "id": "75bc1fc9",
   "metadata": {},
   "outputs": [
    {
     "data": {
      "text/plain": [
       "LinearRegression()"
      ]
     },
     "execution_count": 13,
     "metadata": {},
     "output_type": "execute_result"
    }
   ],
   "source": [
    "lm = LinearRegression()\n",
    "lm.fit(X_train[['abs_diff_longitude']], Y_train)"
   ]
  },
  {
   "cell_type": "code",
   "execution_count": 14,
   "id": "c6d18e80",
   "metadata": {},
   "outputs": [],
   "source": [
    "Y_pred = lm.predict(X_test[['abs_diff_longitude']])"
   ]
  },
  {
   "cell_type": "code",
   "execution_count": 15,
   "id": "ae4f2927",
   "metadata": {},
   "outputs": [],
   "source": [
    "from sklearn.metrics import mean_squared_error, mean_absolute_error, r2_score"
   ]
  },
  {
   "cell_type": "code",
   "execution_count": 16,
   "id": "18d680d7",
   "metadata": {},
   "outputs": [
    {
     "data": {
      "text/plain": [
       "0.0"
      ]
     },
     "execution_count": 16,
     "metadata": {},
     "output_type": "execute_result"
    }
   ],
   "source": [
    "mae = mean_absolute_error(Y_test, Y_pred)\n",
    "mae"
   ]
  },
  {
   "cell_type": "code",
   "execution_count": 17,
   "id": "48acff04",
   "metadata": {},
   "outputs": [
    {
     "data": {
      "text/plain": [
       "1.0"
      ]
     },
     "execution_count": 17,
     "metadata": {},
     "output_type": "execute_result"
    }
   ],
   "source": [
    "r2_score(Y_test, Y_pred)"
   ]
  },
  {
   "cell_type": "markdown",
   "id": "e8d82dc1",
   "metadata": {},
   "source": [
    "**Treinar o modelo novamente, dessa vez escolhendo uma outra feature; fazer a predição no conjunto de teste; verificar os erros**"
   ]
  },
  {
   "cell_type": "code",
   "execution_count": 19,
   "id": "c62fcf2e",
   "metadata": {},
   "outputs": [],
   "source": [
    "Y = df['fare_amount']\n",
    "del df['fare_amount']\n",
    "X = df"
   ]
  },
  {
   "cell_type": "code",
   "execution_count": 20,
   "id": "dee4c6d7",
   "metadata": {},
   "outputs": [],
   "source": [
    "X_train, X_test, Y_train, Y_test = train_test_split(X, Y, test_size = 0.30, random_state = 42)"
   ]
  },
  {
   "cell_type": "code",
   "execution_count": 21,
   "id": "a12c4417",
   "metadata": {},
   "outputs": [
    {
     "data": {
      "text/plain": [
       "LinearRegression()"
      ]
     },
     "execution_count": 21,
     "metadata": {},
     "output_type": "execute_result"
    }
   ],
   "source": [
    "lm = LinearRegression()\n",
    "lm.fit(X_train[['passenger_count']], Y_train)"
   ]
  },
  {
   "cell_type": "code",
   "execution_count": 22,
   "id": "2e8b2cf7",
   "metadata": {},
   "outputs": [],
   "source": [
    "Y_pred = lm.predict(X_test[['passenger_count']])"
   ]
  },
  {
   "cell_type": "code",
   "execution_count": 23,
   "id": "1b668bdc",
   "metadata": {},
   "outputs": [
    {
     "data": {
      "text/plain": [
       "array([10.98142633, 10.98142633, 10.98142633, ..., 10.98142633,\n",
       "       10.98142633, 10.98142633])"
      ]
     },
     "execution_count": 23,
     "metadata": {},
     "output_type": "execute_result"
    }
   ],
   "source": [
    "Y_pred"
   ]
  },
  {
   "cell_type": "code",
   "execution_count": 24,
   "id": "fb30144a",
   "metadata": {},
   "outputs": [
    {
     "data": {
      "text/plain": [
       "5.669353124298314"
      ]
     },
     "execution_count": 24,
     "metadata": {},
     "output_type": "execute_result"
    }
   ],
   "source": [
    "mae = mean_absolute_error(Y_test, Y_pred)\n",
    "mae"
   ]
  },
  {
   "cell_type": "code",
   "execution_count": 25,
   "id": "a127a203",
   "metadata": {},
   "outputs": [
    {
     "data": {
      "text/plain": [
       "77.40617900439536"
      ]
     },
     "execution_count": 25,
     "metadata": {},
     "output_type": "execute_result"
    }
   ],
   "source": [
    "mse = mean_squared_error(Y_test, Y_pred)\n",
    "mse"
   ]
  },
  {
   "cell_type": "code",
   "execution_count": 26,
   "id": "f15aa472",
   "metadata": {},
   "outputs": [
    {
     "data": {
      "text/plain": [
       "0.0003595786629593256"
      ]
     },
     "execution_count": 26,
     "metadata": {},
     "output_type": "execute_result"
    }
   ],
   "source": [
    "r2_score(Y_test, Y_pred)"
   ]
  }
 ],
 "metadata": {
  "kernelspec": {
   "display_name": "Python 3",
   "language": "python",
   "name": "python3"
  },
  "language_info": {
   "codemirror_mode": {
    "name": "ipython",
    "version": 3
   },
   "file_extension": ".py",
   "mimetype": "text/x-python",
   "name": "python",
   "nbconvert_exporter": "python",
   "pygments_lexer": "ipython3",
   "version": "3.8.8"
  }
 },
 "nbformat": 4,
 "nbformat_minor": 5
}
